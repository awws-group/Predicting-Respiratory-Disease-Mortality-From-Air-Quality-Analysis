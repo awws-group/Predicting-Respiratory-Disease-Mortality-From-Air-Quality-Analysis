{
 "cells": [
  {
   "cell_type": "markdown",
   "metadata": {},
   "source": [
    "<H3>Dataframe transformations for Tableau Visualization (jmc39)</H3>\n",
    "Focus of this notebook is (1) to import csv files generated from JP's multi-linear regression (MLR) machine learning model & ES's random forest (RF) machine learning model and then (2) transform that data to create a data source for Tableau visualization."
   ]
  },
  {
   "cell_type": "markdown",
   "metadata": {},
   "source": [
    "<H4>(1) Import csv files and wrangle</H4>"
   ]
  },
  {
   "cell_type": "code",
   "execution_count": 1,
   "metadata": {},
   "outputs": [],
   "source": [
    "import pandas as pd\n",
    "import numpy as np"
   ]
  },
  {
   "cell_type": "code",
   "execution_count": 2,
   "metadata": {},
   "outputs": [],
   "source": [
    "RF_csv = \"random_forest_values_twb.csv\"\n",
    "MLRO_csv = \"observed_asthma_twb.csv\"\n",
    "MLRP_csv = \"predicted_asthma_multi_linear_twb.csv\""
   ]
  },
  {
   "cell_type": "code",
   "execution_count": 3,
   "metadata": {},
   "outputs": [
    {
     "name": "stderr",
     "output_type": "stream",
     "text": [
      "/Users/jamesmcarter/anaconda3/lib/python3.7/site-packages/IPython/core/interactiveshell.py:3049: DtypeWarning: Columns (16) have mixed types. Specify dtype option on import or set low_memory=False.\n",
      "  interactivity=interactivity, compiler=compiler, result=result)\n"
     ]
    }
   ],
   "source": [
    "# Create dataframe with columns necessary for visualization\n",
    "def cols_to_read(x):\n",
    "    return x.lower() in ['year','state_name','county_name','fips','observed',\\\n",
    "                         'asthma_death_per_100k','asthma_deaths_per_100k']\n",
    "\n",
    "raw_df_RF_values = pd.read_csv(RF_csv, usecols=cols_to_read)\n",
    "raw_df_MLR_observed = pd.read_csv(MLRO_csv, usecols=cols_to_read)\n",
    "raw_df_MLR_predicted = pd.read_csv(MLRP_csv, usecols=cols_to_read)"
   ]
  },
  {
   "cell_type": "code",
   "execution_count": 4,
   "metadata": {},
   "outputs": [
    {
     "data": {
      "text/plain": [
       "(16450, 7)"
      ]
     },
     "execution_count": 4,
     "metadata": {},
     "output_type": "execute_result"
    },
    {
     "data": {
      "text/plain": [
       "(12822, 6)"
      ]
     },
     "execution_count": 4,
     "metadata": {},
     "output_type": "execute_result"
    },
    {
     "data": {
      "text/plain": [
       "(3628, 6)"
      ]
     },
     "execution_count": 4,
     "metadata": {},
     "output_type": "execute_result"
    },
    {
     "data": {
      "text/plain": [
       "16450"
      ]
     },
     "execution_count": 4,
     "metadata": {},
     "output_type": "execute_result"
    }
   ],
   "source": [
    "raw_df_RF_values.shape\n",
    "raw_df_MLR_observed.shape\n",
    "raw_df_MLR_predicted.shape\n",
    "len(raw_df_MLR_observed) + len(raw_df_MLR_predicted)"
   ]
  },
  {
   "cell_type": "code",
   "execution_count": 5,
   "metadata": {},
   "outputs": [
    {
     "data": {
      "text/plain": [
       "Index(['asthma_death_per_100k', 'asthma_deaths_per_100k', 'county_name',\n",
       "       'fips', 'observed', 'state_name', 'year'],\n",
       "      dtype='object')"
      ]
     },
     "execution_count": 5,
     "metadata": {},
     "output_type": "execute_result"
    },
    {
     "data": {
      "text/plain": [
       "Index(['year', 'fips', 'state_name', 'county_name', 'asthma_deaths_per_100k',\n",
       "       'observed'],\n",
       "      dtype='object')"
      ]
     },
     "execution_count": 5,
     "metadata": {},
     "output_type": "execute_result"
    },
    {
     "data": {
      "text/plain": [
       "Index(['year', 'fips', 'state_name', 'county_name', 'observed',\n",
       "       'asthma_deaths_per_100k'],\n",
       "      dtype='object')"
      ]
     },
     "execution_count": 5,
     "metadata": {},
     "output_type": "execute_result"
    }
   ],
   "source": [
    "df_RF = raw_df_RF_values\n",
    "df_MLRO = raw_df_MLR_observed\n",
    "df_MLRP = raw_df_MLR_predicted\n",
    "df_RF.columns\n",
    "df_MLRO.columns\n",
    "df_MLRP.columns"
   ]
  },
  {
   "cell_type": "markdown",
   "metadata": {},
   "source": [
    "<H4>(2) Transform to generate csvs for Tableau vizzin'</H4>"
   ]
  },
  {
   "cell_type": "code",
   "execution_count": 6,
   "metadata": {},
   "outputs": [
    {
     "data": {
      "text/plain": [
       "Index(['asthma_deaths_per_100k', 'county_name', 'fips', 'observed',\n",
       "       'state_name', 'year'],\n",
       "      dtype='object')"
      ]
     },
     "execution_count": 6,
     "metadata": {},
     "output_type": "execute_result"
    },
    {
     "data": {
      "text/plain": [
       "16450"
      ]
     },
     "execution_count": 6,
     "metadata": {},
     "output_type": "execute_result"
    },
    {
     "data": {
      "text/html": [
       "<div>\n",
       "<style scoped>\n",
       "    .dataframe tbody tr th:only-of-type {\n",
       "        vertical-align: middle;\n",
       "    }\n",
       "\n",
       "    .dataframe tbody tr th {\n",
       "        vertical-align: top;\n",
       "    }\n",
       "\n",
       "    .dataframe thead th {\n",
       "        text-align: right;\n",
       "    }\n",
       "</style>\n",
       "<table border=\"1\" class=\"dataframe\">\n",
       "  <thead>\n",
       "    <tr style=\"text-align: right;\">\n",
       "      <th></th>\n",
       "      <th>asthma_deaths_per_100k</th>\n",
       "      <th>county_name</th>\n",
       "      <th>fips</th>\n",
       "      <th>observed</th>\n",
       "      <th>state_name</th>\n",
       "      <th>year</th>\n",
       "    </tr>\n",
       "  </thead>\n",
       "  <tbody>\n",
       "    <tr>\n",
       "      <th>0</th>\n",
       "      <td>2.016585</td>\n",
       "      <td>Kent</td>\n",
       "      <td>10001</td>\n",
       "      <td>1</td>\n",
       "      <td>Delaware</td>\n",
       "      <td>1996</td>\n",
       "    </tr>\n",
       "    <tr>\n",
       "      <th>1</th>\n",
       "      <td>1.738850</td>\n",
       "      <td>New Castle</td>\n",
       "      <td>10003</td>\n",
       "      <td>1</td>\n",
       "      <td>Delaware</td>\n",
       "      <td>1996</td>\n",
       "    </tr>\n",
       "  </tbody>\n",
       "</table>\n",
       "</div>"
      ],
      "text/plain": [
       "   asthma_deaths_per_100k county_name   fips  observed state_name  year\n",
       "0                2.016585        Kent  10001         1   Delaware  1996\n",
       "1                1.738850  New Castle  10003         1   Delaware  1996"
      ]
     },
     "execution_count": 6,
     "metadata": {},
     "output_type": "execute_result"
    },
    {
     "data": {
      "text/html": [
       "<div>\n",
       "<style scoped>\n",
       "    .dataframe tbody tr th:only-of-type {\n",
       "        vertical-align: middle;\n",
       "    }\n",
       "\n",
       "    .dataframe tbody tr th {\n",
       "        vertical-align: top;\n",
       "    }\n",
       "\n",
       "    .dataframe thead th {\n",
       "        text-align: right;\n",
       "    }\n",
       "</style>\n",
       "<table border=\"1\" class=\"dataframe\">\n",
       "  <thead>\n",
       "    <tr style=\"text-align: right;\">\n",
       "      <th></th>\n",
       "      <th>asthma_deaths_per_100k</th>\n",
       "      <th>county_name</th>\n",
       "      <th>fips</th>\n",
       "      <th>observed</th>\n",
       "      <th>state_name</th>\n",
       "      <th>year</th>\n",
       "    </tr>\n",
       "  </thead>\n",
       "  <tbody>\n",
       "    <tr>\n",
       "      <th>16448</th>\n",
       "      <td>1.594043</td>\n",
       "      <td>BAJA CALIFORNIA NORTE</td>\n",
       "      <td>80002</td>\n",
       "      <td>0</td>\n",
       "      <td>Country Of Mexico</td>\n",
       "      <td>2017</td>\n",
       "    </tr>\n",
       "    <tr>\n",
       "      <th>16449</th>\n",
       "      <td>1.472179</td>\n",
       "      <td>SONORA</td>\n",
       "      <td>80026</td>\n",
       "      <td>0</td>\n",
       "      <td>Country Of Mexico</td>\n",
       "      <td>2017</td>\n",
       "    </tr>\n",
       "  </tbody>\n",
       "</table>\n",
       "</div>"
      ],
      "text/plain": [
       "       asthma_deaths_per_100k            county_name   fips  observed  \\\n",
       "16448                1.594043  BAJA CALIFORNIA NORTE  80002         0   \n",
       "16449                1.472179                 SONORA  80026         0   \n",
       "\n",
       "              state_name  year  \n",
       "16448  Country Of Mexico  2017  \n",
       "16449  Country Of Mexico  2017  "
      ]
     },
     "execution_count": 6,
     "metadata": {},
     "output_type": "execute_result"
    },
    {
     "data": {
      "text/plain": [
       "asthma_deaths_per_100k    float64\n",
       "county_name                object\n",
       "fips                       object\n",
       "observed                    int64\n",
       "state_name                 object\n",
       "year                        int64\n",
       "dtype: object"
      ]
     },
     "execution_count": 6,
     "metadata": {},
     "output_type": "execute_result"
    }
   ],
   "source": [
    "# Combine MLR observed and predicted dataframes\n",
    "df_MLR = pd.concat([df_MLRO,df_MLRP],ignore_index=True, sort=True)\n",
    "df_MLR.columns\n",
    "len(df_MLR)\n",
    "df_MLR.head(2)\n",
    "df_MLR.tail(2)\n",
    "df_MLR.dtypes"
   ]
  },
  {
   "cell_type": "code",
   "execution_count": 7,
   "metadata": {},
   "outputs": [],
   "source": [
    "# generate CSV for Tableau data sources\n",
    "df_RF.to_csv(\"tableau_random_forest.csv\")\n",
    "df_MLR.to_csv(\"tableau_multi-linear-regression.csv\")"
   ]
  }
 ],
 "metadata": {
  "kernelspec": {
   "display_name": "Python 3",
   "language": "python",
   "name": "python3"
  },
  "language_info": {
   "codemirror_mode": {
    "name": "ipython",
    "version": 3
   },
   "file_extension": ".py",
   "mimetype": "text/x-python",
   "name": "python",
   "nbconvert_exporter": "python",
   "pygments_lexer": "ipython3",
   "version": "3.7.3"
  }
 },
 "nbformat": 4,
 "nbformat_minor": 2
}
