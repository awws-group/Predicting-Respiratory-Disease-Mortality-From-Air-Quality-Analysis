{
 "cells": [
  {
   "cell_type": "code",
   "execution_count": 299,
   "metadata": {},
   "outputs": [],
   "source": [
    "import pandas as pd\n",
    "import numpy as np\n",
    "# Option to display numpy arrays without truncating them\n",
    "np.set_printoptions(threshold=np.inf)"
   ]
  },
  {
   "cell_type": "code",
   "execution_count": 300,
   "metadata": {},
   "outputs": [],
   "source": [
    "# List of states - use to import data\n",
    "states=[\"Alabama\",\"Alaska\",\"Arizona\",\"Arkansas\",\"California\",\"Colorado\",\n",
    "  \"Connecticut\",\"Delaware\",\"Florida\",\"Georgia\",\"Hawaii\",\"Idaho\",\"Illinois\",\n",
    "  \"Indiana\",\"Iowa\",\"Kansas\",\"Kentucky\",\"Louisiana\",\"Maine\",\"Maryland\",\n",
    "  \"Massachusetts\",\"Michigan\",\"Minnesota\",\"Mississippi\",\"Missouri\",\"Montana\",\n",
    "  \"Nebraska\",\"Nevada\",\"New Hampshire\",\"New Jersey\",\"New Mexico\",\"New York\",\n",
    "  \"North Carolina\",\"North Dakota\",\"Ohio\",\"Oklahoma\",\"Oregon\",\"Pennsylvania\",\n",
    "  \"Rhode Island\",\"South Carolina\",\"South Dakota\",\"Tennessee\",\"Texas\",\"Utah\",\n",
    "  \"Vermont\",\"Virginia\",\"Washington\",\"West Virginia\",\"Wisconsin\",\"Wyoming\"]"
   ]
  },
  {
   "cell_type": "code",
   "execution_count": 301,
   "metadata": {},
   "outputs": [],
   "source": [
    "# State CSV files named with underscores - modify state list\n",
    "new_states=[]\n",
    "\n",
    "for state in states:\n",
    "    new_states.append(state.upper().replace(' ','_'))"
   ]
  },
  {
   "cell_type": "code",
   "execution_count": 302,
   "metadata": {},
   "outputs": [],
   "source": [
    "# Download state respiratory disease files from the following URL\n",
    "# http://ghdx.healthdata.org/record/ihme-data/united-states-chronic-respiratory-disease-mortality-rates-county-1980-2014"
   ]
  },
  {
   "cell_type": "code",
   "execution_count": 303,
   "metadata": {},
   "outputs": [
    {
     "name": "stdout",
     "output_type": "stream",
     "text": [
      "Before length: 1050 After length: 72450\n",
      "Before length: 72450 After length: 103950\n",
      "Before length: 103950 After length: 120750\n",
      "Before length: 120750 After length: 200550\n",
      "Before length: 200550 After length: 262500\n",
      "Before length: 262500 After length: 330750\n",
      "Before length: 330750 After length: 340200\n",
      "Before length: 340200 After length: 344400\n",
      "Before length: 344400 After length: 415800\n",
      "Before length: 415800 After length: 583800\n",
      "Before length: 583800 After length: 590100\n",
      "Before length: 590100 After length: 637350\n",
      "Before length: 637350 After length: 745500\n",
      "Before length: 745500 After length: 843150\n",
      "Before length: 843150 After length: 948150\n",
      "Before length: 948150 After length: 1059450\n",
      "Before length: 1059450 After length: 1186500\n",
      "Before length: 1186500 After length: 1254750\n",
      "Before length: 1254750 After length: 1272600\n",
      "Before length: 1272600 After length: 1298850\n",
      "Before length: 1298850 After length: 1314600\n",
      "Before length: 1314600 After length: 1402800\n",
      "Before length: 1402800 After length: 1495200\n",
      "Before length: 1495200 After length: 1582350\n",
      "Before length: 1582350 After length: 1704150\n",
      "Before length: 1704150 After length: 1764000\n",
      "Before length: 1764000 After length: 1862700\n",
      "Before length: 1862700 After length: 1881600\n",
      "Before length: 1881600 After length: 1893150\n",
      "Before length: 1893150 After length: 1916250\n",
      "Before length: 1916250 After length: 1951950\n",
      "Before length: 1951950 After length: 2018100\n",
      "Before length: 2018100 After length: 2124150\n",
      "Before length: 2124150 After length: 2180850\n",
      "Before length: 2180850 After length: 2274300\n",
      "Before length: 2274300 After length: 2356200\n",
      "Before length: 2356200 After length: 2395050\n",
      "Before length: 2395050 After length: 2466450\n",
      "Before length: 2466450 After length: 2472750\n",
      "Before length: 2472750 After length: 2522100\n",
      "Before length: 2522100 After length: 2592450\n",
      "Before length: 2592450 After length: 2693250\n",
      "Before length: 2693250 After length: 2961000\n",
      "Before length: 2961000 After length: 2992500\n",
      "Before length: 2992500 After length: 3008250\n",
      "Before length: 3008250 After length: 3148950\n",
      "Before length: 3148950 After length: 3190950\n",
      "Before length: 3190950 After length: 3249750\n",
      "Before length: 3249750 After length: 3326400\n",
      "Before length: 3326400 After length: 3351600\n"
     ]
    }
   ],
   "source": [
    "# Loop through each filename, import, & append\n",
    "base = \"state_data/IHME_USA_COUNTY_RESP_DISEASE_MORTALITY_1980_2014_\"\n",
    "end = \"_Y2017M09D26.CSV\"\n",
    "\n",
    "# Initialize dataframe with national dataset\n",
    "start_df=pd.read_csv(base+'UNITED_STATES'+end)\n",
    "start_df['state']='National'\n",
    "\n",
    "# Now loop through each state\n",
    "for state in new_states:\n",
    "    \n",
    "    before = 'Before length: '+str(len(start_df))\n",
    "    \n",
    "    path = base+state+end\n",
    "    data = pd.read_csv(path)\n",
    "    data['state']=state.title().replace('_',\" \")\n",
    "    \n",
    "    start_df = start_df.append(data)\n",
    "    \n",
    "    after = 'After length: '+str(len(start_df))\n",
    "    print(before + ' ' + after)    "
   ]
  },
  {
   "cell_type": "code",
   "execution_count": 229,
   "metadata": {},
   "outputs": [],
   "source": [
    "# Currently just interested in asthma data\n",
    "start_df = start_df[start_df['cause_name']=='Asthma']"
   ]
  },
  {
   "cell_type": "code",
   "execution_count": null,
   "metadata": {},
   "outputs": [],
   "source": [
    "# Download smoking rate file from the following URL\n",
    "# http://ghdx.healthdata.org/record/ihme-data/united-states-smoking-prevalence-county-1996-2012\n",
    "smoking_df = pd.read_csv('smoking data/IHME_US_COUNTY_TOTAL_AND_DAILY_SMOKING_PREVALENCE_1996_2012.csv')"
   ]
  },
  {
   "cell_type": "code",
   "execution_count": 230,
   "metadata": {},
   "outputs": [
    {
     "data": {
      "text/html": [
       "<div>\n",
       "<style scoped>\n",
       "    .dataframe tbody tr th:only-of-type {\n",
       "        vertical-align: middle;\n",
       "    }\n",
       "\n",
       "    .dataframe tbody tr th {\n",
       "        vertical-align: top;\n",
       "    }\n",
       "\n",
       "    .dataframe thead th {\n",
       "        text-align: right;\n",
       "    }\n",
       "</style>\n",
       "<table border=\"1\" class=\"dataframe\">\n",
       "  <thead>\n",
       "    <tr style=\"text-align: right;\">\n",
       "      <th></th>\n",
       "      <th>state</th>\n",
       "      <th>county</th>\n",
       "      <th>sex</th>\n",
       "      <th>year</th>\n",
       "      <th>total_mean</th>\n",
       "      <th>total_lb</th>\n",
       "      <th>total_ub</th>\n",
       "      <th>daily_mean</th>\n",
       "      <th>daily_lb</th>\n",
       "      <th>daily_ub</th>\n",
       "    </tr>\n",
       "  </thead>\n",
       "  <tbody>\n",
       "    <tr>\n",
       "      <th>162124</th>\n",
       "      <td>Wyoming</td>\n",
       "      <td>Weston County</td>\n",
       "      <td>Female</td>\n",
       "      <td>2011</td>\n",
       "      <td>23.66</td>\n",
       "      <td>18.60</td>\n",
       "      <td>29.36</td>\n",
       "      <td>18.27</td>\n",
       "      <td>14.35</td>\n",
       "      <td>23.29</td>\n",
       "    </tr>\n",
       "    <tr>\n",
       "      <th>162125</th>\n",
       "      <td>Wyoming</td>\n",
       "      <td>Weston County</td>\n",
       "      <td>Both</td>\n",
       "      <td>2011</td>\n",
       "      <td>26.06</td>\n",
       "      <td>21.28</td>\n",
       "      <td>31.36</td>\n",
       "      <td>19.95</td>\n",
       "      <td>16.14</td>\n",
       "      <td>24.70</td>\n",
       "    </tr>\n",
       "    <tr>\n",
       "      <th>162126</th>\n",
       "      <td>Wyoming</td>\n",
       "      <td>Weston County</td>\n",
       "      <td>Male</td>\n",
       "      <td>2012</td>\n",
       "      <td>27.32</td>\n",
       "      <td>22.98</td>\n",
       "      <td>32.09</td>\n",
       "      <td>20.31</td>\n",
       "      <td>16.79</td>\n",
       "      <td>24.49</td>\n",
       "    </tr>\n",
       "    <tr>\n",
       "      <th>162127</th>\n",
       "      <td>Wyoming</td>\n",
       "      <td>Weston County</td>\n",
       "      <td>Female</td>\n",
       "      <td>2012</td>\n",
       "      <td>22.71</td>\n",
       "      <td>17.95</td>\n",
       "      <td>28.11</td>\n",
       "      <td>17.18</td>\n",
       "      <td>13.55</td>\n",
       "      <td>21.77</td>\n",
       "    </tr>\n",
       "    <tr>\n",
       "      <th>162128</th>\n",
       "      <td>Wyoming</td>\n",
       "      <td>Weston County</td>\n",
       "      <td>Both</td>\n",
       "      <td>2012</td>\n",
       "      <td>24.97</td>\n",
       "      <td>20.40</td>\n",
       "      <td>29.99</td>\n",
       "      <td>18.72</td>\n",
       "      <td>15.16</td>\n",
       "      <td>23.10</td>\n",
       "    </tr>\n",
       "  </tbody>\n",
       "</table>\n",
       "</div>"
      ],
      "text/plain": [
       "          state         county     sex  year  total_mean  total_lb  total_ub  \\\n",
       "162124  Wyoming  Weston County  Female  2011       23.66     18.60     29.36   \n",
       "162125  Wyoming  Weston County    Both  2011       26.06     21.28     31.36   \n",
       "162126  Wyoming  Weston County    Male  2012       27.32     22.98     32.09   \n",
       "162127  Wyoming  Weston County  Female  2012       22.71     17.95     28.11   \n",
       "162128  Wyoming  Weston County    Both  2012       24.97     20.40     29.99   \n",
       "\n",
       "        daily_mean  daily_lb   daily_ub  \n",
       "162124       18.27     14.35      23.29  \n",
       "162125       19.95     16.14      24.70  \n",
       "162126       20.31     16.79      24.49  \n",
       "162127       17.18     13.55      21.77  \n",
       "162128       18.72     15.16      23.10  "
      ]
     },
     "execution_count": 230,
     "metadata": {},
     "output_type": "execute_result"
    }
   ],
   "source": [
    "# Changes Males & Females to Male & Female so as to join more easily\n",
    "smoking_df=smoking_df.replace('Males', 'Male').replace('Females','Female')\n",
    "smoking_df.tail()"
   ]
  },
  {
   "cell_type": "code",
   "execution_count": 160,
   "metadata": {},
   "outputs": [],
   "source": [
    "# Some commands to quality check the datasets\n",
    "len(smoking_df['year'].unique())\n",
    "len(start_df['year_id'].unique())\n",
    "print(start_df[\"sex\"].unique())\n",
    "print(smoking_df['sex'].unique())\n",
    "start_df[start_df['state']=='Hawaii']\n",
    "start_df[start_df['state']=='Delaware']['location_name'].unique()\n",
    "start_df[start_df['state']=='Delaware']\n",
    "smoking_df[smoking_df['state']=='Hawaii']\n",
    "smoking_df[smoking_df['state']=='Delaware']['county'].unique()\n",
    "smoking_df[smoking_df['state']=='Delaware']"
   ]
  },
  {
   "cell_type": "code",
   "execution_count": 283,
   "metadata": {},
   "outputs": [],
   "source": [
    "# Merge two datasets\n",
    "merged_df = pd.merge(start_df,smoking_df,how='left',left_on = ['location_name','state','sex','year_id'],\n",
    "                     right_on = ['county','state','sex','year'])"
   ]
  },
  {
   "cell_type": "code",
   "execution_count": 284,
   "metadata": {},
   "outputs": [],
   "source": [
    "# Remove unnecessary columns\n",
    "merged_df=merged_df[['FIPS','state','county','year','sex','mx','lower','upper','total_mean','total_lb','total_ub','daily_mean','daily_lb',' daily_ub']]\n",
    "# Rename columns to be more descriptive\n",
    "merged_df=merged_df.rename(index=str, columns={\"mx\": \"asthma_deaths_per_100k\"\n",
    "                                              ,\"lower\": \"asthma_lb\"\n",
    "                                              ,\"upper\":\"asthma_ub\"\n",
    "                                              ,'total_mean':\"current_smoking_pct\"\n",
    "                                              ,'total_lb':\"current_smoking_lb\"\n",
    "                                              ,'total_ub':\"current_smoking_ub\"\n",
    "                                              ,'daily_mean':'daily_smoker_pct'\n",
    "                                              ,'daily_lb':'daily_smoker_lb'\n",
    "                                              ,' daily_ub':'daily_smoker_ub'\n",
    "                                              ,'FIPS':'fips'})\n"
   ]
  },
  {
   "cell_type": "code",
   "execution_count": 285,
   "metadata": {},
   "outputs": [],
   "source": [
    "# Drop na's\n",
    "smoking_data = merged_df.dropna()\n",
    "non_smoking_data = start_df.dropna()"
   ]
  },
  {
   "cell_type": "code",
   "execution_count": 286,
   "metadata": {},
   "outputs": [
    {
     "name": "stderr",
     "output_type": "stream",
     "text": [
      "/Users/edshafron/anaconda3/envs/PythonData/lib/python3.7/site-packages/ipykernel_launcher.py:2: SettingWithCopyWarning: \n",
      "A value is trying to be set on a copy of a slice from a DataFrame.\n",
      "Try using .loc[row_indexer,col_indexer] = value instead\n",
      "\n",
      "See the caveats in the documentation: http://pandas.pydata.org/pandas-docs/stable/indexing.html#indexing-view-versus-copy\n",
      "  \n"
     ]
    }
   ],
   "source": [
    "# Convert fips to string; ignore warnings\n",
    "smoking_data['fips'] = smoking_data['fips'].astype(int).astype(str)"
   ]
  },
  {
   "cell_type": "code",
   "execution_count": 279,
   "metadata": {},
   "outputs": [
    {
     "name": "stderr",
     "output_type": "stream",
     "text": [
      "/Users/edshafron/anaconda3/envs/PythonData/lib/python3.7/site-packages/ipykernel_launcher.py:2: SettingWithCopyWarning: \n",
      "A value is trying to be set on a copy of a slice from a DataFrame.\n",
      "Try using .loc[row_indexer,col_indexer] = value instead\n",
      "\n",
      "See the caveats in the documentation: http://pandas.pydata.org/pandas-docs/stable/indexing.html#indexing-view-versus-copy\n",
      "  \n"
     ]
    }
   ],
   "source": [
    "# Add leading zero; ignore warnings\n",
    "smoking_data['fips'] = smoking_data['fips'].apply('{:0>5}'.format) "
   ]
  },
  {
   "cell_type": "code",
   "execution_count": 296,
   "metadata": {},
   "outputs": [],
   "source": [
    "smoking_data.to_csv('smoking_data.csv')"
   ]
  }
 ],
 "metadata": {
  "kernelspec": {
   "display_name": "Python 3",
   "language": "python",
   "name": "python3"
  },
  "language_info": {
   "codemirror_mode": {
    "name": "ipython",
    "version": 3
   },
   "file_extension": ".py",
   "mimetype": "text/x-python",
   "name": "python",
   "nbconvert_exporter": "python",
   "pygments_lexer": "ipython3",
   "version": "3.7.2"
  }
 },
 "nbformat": 4,
 "nbformat_minor": 2
}
