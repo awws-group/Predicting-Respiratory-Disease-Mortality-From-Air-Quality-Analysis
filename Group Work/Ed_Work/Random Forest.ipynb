{
 "cells": [
  {
   "cell_type": "code",
   "execution_count": 1,
   "metadata": {},
   "outputs": [
    {
     "data": {
      "text/html": [
       "<div>\n",
       "<style scoped>\n",
       "    .dataframe tbody tr th:only-of-type {\n",
       "        vertical-align: middle;\n",
       "    }\n",
       "\n",
       "    .dataframe tbody tr th {\n",
       "        vertical-align: top;\n",
       "    }\n",
       "\n",
       "    .dataframe thead th {\n",
       "        text-align: right;\n",
       "    }\n",
       "</style>\n",
       "<table border=\"1\" class=\"dataframe\">\n",
       "  <thead>\n",
       "    <tr style=\"text-align: right;\">\n",
       "      <th></th>\n",
       "      <th>arithmetic_mean|Carbon monoxide</th>\n",
       "      <th>arithmetic_mean|Nitrogen dioxide (NO2)</th>\n",
       "      <th>arithmetic_mean|Ozone</th>\n",
       "      <th>arithmetic_mean|PM2.5 - Local Conditions</th>\n",
       "      <th>arithmetic_standard_dev|Carbon monoxide</th>\n",
       "      <th>arithmetic_standard_dev|Nitrogen dioxide (NO2)</th>\n",
       "      <th>arithmetic_standard_dev|Ozone</th>\n",
       "      <th>arithmetic_standard_dev|PM2.5 - Local Conditions</th>\n",
       "      <th>fifty_percentile|Carbon monoxide</th>\n",
       "      <th>fifty_percentile|Nitrogen dioxide (NO2)</th>\n",
       "      <th>...</th>\n",
       "      <th>ten_percentile|Nitrogen dioxide (NO2)</th>\n",
       "      <th>ten_percentile|Ozone</th>\n",
       "      <th>ten_percentile|PM2.5 - Local Conditions</th>\n",
       "      <th>third_max_value|Carbon monoxide</th>\n",
       "      <th>third_max_value|Nitrogen dioxide (NO2)</th>\n",
       "      <th>third_max_value|Ozone</th>\n",
       "      <th>third_max_value|PM2.5 - Local Conditions</th>\n",
       "      <th>asthma_deaths_per_100k</th>\n",
       "      <th>current_smoking_pct</th>\n",
       "      <th>daily_smoker_pct</th>\n",
       "    </tr>\n",
       "  </thead>\n",
       "  <tbody>\n",
       "    <tr>\n",
       "      <th>0</th>\n",
       "      <td>0.000000</td>\n",
       "      <td>0.00000</td>\n",
       "      <td>0.052134</td>\n",
       "      <td>0.0</td>\n",
       "      <td>0.000000</td>\n",
       "      <td>0.000000</td>\n",
       "      <td>0.017167</td>\n",
       "      <td>0.0</td>\n",
       "      <td>0.0</td>\n",
       "      <td>0.0</td>\n",
       "      <td>...</td>\n",
       "      <td>0.0</td>\n",
       "      <td>0.031000</td>\n",
       "      <td>0.0</td>\n",
       "      <td>0.00</td>\n",
       "      <td>0.0</td>\n",
       "      <td>0.090000</td>\n",
       "      <td>0.0</td>\n",
       "      <td>2.016585</td>\n",
       "      <td>27.85</td>\n",
       "      <td>24.97</td>\n",
       "    </tr>\n",
       "    <tr>\n",
       "      <th>1</th>\n",
       "      <td>0.777178</td>\n",
       "      <td>19.04093</td>\n",
       "      <td>0.045973</td>\n",
       "      <td>0.0</td>\n",
       "      <td>0.349306</td>\n",
       "      <td>12.161065</td>\n",
       "      <td>0.016973</td>\n",
       "      <td>0.0</td>\n",
       "      <td>0.7</td>\n",
       "      <td>17.0</td>\n",
       "      <td>...</td>\n",
       "      <td>5.0</td>\n",
       "      <td>0.029333</td>\n",
       "      <td>0.0</td>\n",
       "      <td>2.65</td>\n",
       "      <td>74.0</td>\n",
       "      <td>0.087667</td>\n",
       "      <td>0.0</td>\n",
       "      <td>1.738850</td>\n",
       "      <td>25.38</td>\n",
       "      <td>21.43</td>\n",
       "    </tr>\n",
       "    <tr>\n",
       "      <th>2</th>\n",
       "      <td>0.000000</td>\n",
       "      <td>0.00000</td>\n",
       "      <td>0.048738</td>\n",
       "      <td>0.0</td>\n",
       "      <td>0.000000</td>\n",
       "      <td>0.000000</td>\n",
       "      <td>0.018703</td>\n",
       "      <td>0.0</td>\n",
       "      <td>0.0</td>\n",
       "      <td>0.0</td>\n",
       "      <td>...</td>\n",
       "      <td>0.0</td>\n",
       "      <td>0.027000</td>\n",
       "      <td>0.0</td>\n",
       "      <td>0.00</td>\n",
       "      <td>0.0</td>\n",
       "      <td>0.091000</td>\n",
       "      <td>0.0</td>\n",
       "      <td>1.693894</td>\n",
       "      <td>28.77</td>\n",
       "      <td>25.79</td>\n",
       "    </tr>\n",
       "    <tr>\n",
       "      <th>3</th>\n",
       "      <td>0.000000</td>\n",
       "      <td>0.00000</td>\n",
       "      <td>0.040651</td>\n",
       "      <td>0.0</td>\n",
       "      <td>0.000000</td>\n",
       "      <td>0.000000</td>\n",
       "      <td>0.012891</td>\n",
       "      <td>0.0</td>\n",
       "      <td>0.0</td>\n",
       "      <td>0.0</td>\n",
       "      <td>...</td>\n",
       "      <td>0.0</td>\n",
       "      <td>0.026000</td>\n",
       "      <td>0.0</td>\n",
       "      <td>0.00</td>\n",
       "      <td>0.0</td>\n",
       "      <td>0.074000</td>\n",
       "      <td>0.0</td>\n",
       "      <td>1.995325</td>\n",
       "      <td>29.25</td>\n",
       "      <td>26.08</td>\n",
       "    </tr>\n",
       "    <tr>\n",
       "      <th>4</th>\n",
       "      <td>0.000000</td>\n",
       "      <td>0.00000</td>\n",
       "      <td>0.038388</td>\n",
       "      <td>0.0</td>\n",
       "      <td>0.000000</td>\n",
       "      <td>0.000000</td>\n",
       "      <td>0.011559</td>\n",
       "      <td>0.0</td>\n",
       "      <td>0.0</td>\n",
       "      <td>0.0</td>\n",
       "      <td>...</td>\n",
       "      <td>0.0</td>\n",
       "      <td>0.023500</td>\n",
       "      <td>0.0</td>\n",
       "      <td>0.00</td>\n",
       "      <td>0.0</td>\n",
       "      <td>0.070500</td>\n",
       "      <td>0.0</td>\n",
       "      <td>1.334301</td>\n",
       "      <td>28.50</td>\n",
       "      <td>24.41</td>\n",
       "    </tr>\n",
       "  </tbody>\n",
       "</table>\n",
       "<p>5 rows × 59 columns</p>\n",
       "</div>"
      ],
      "text/plain": [
       "   arithmetic_mean|Carbon monoxide  arithmetic_mean|Nitrogen dioxide (NO2)  \\\n",
       "0                         0.000000                                 0.00000   \n",
       "1                         0.777178                                19.04093   \n",
       "2                         0.000000                                 0.00000   \n",
       "3                         0.000000                                 0.00000   \n",
       "4                         0.000000                                 0.00000   \n",
       "\n",
       "   arithmetic_mean|Ozone  arithmetic_mean|PM2.5 - Local Conditions  \\\n",
       "0               0.052134                                       0.0   \n",
       "1               0.045973                                       0.0   \n",
       "2               0.048738                                       0.0   \n",
       "3               0.040651                                       0.0   \n",
       "4               0.038388                                       0.0   \n",
       "\n",
       "   arithmetic_standard_dev|Carbon monoxide  \\\n",
       "0                                 0.000000   \n",
       "1                                 0.349306   \n",
       "2                                 0.000000   \n",
       "3                                 0.000000   \n",
       "4                                 0.000000   \n",
       "\n",
       "   arithmetic_standard_dev|Nitrogen dioxide (NO2)  \\\n",
       "0                                        0.000000   \n",
       "1                                       12.161065   \n",
       "2                                        0.000000   \n",
       "3                                        0.000000   \n",
       "4                                        0.000000   \n",
       "\n",
       "   arithmetic_standard_dev|Ozone  \\\n",
       "0                       0.017167   \n",
       "1                       0.016973   \n",
       "2                       0.018703   \n",
       "3                       0.012891   \n",
       "4                       0.011559   \n",
       "\n",
       "   arithmetic_standard_dev|PM2.5 - Local Conditions  \\\n",
       "0                                               0.0   \n",
       "1                                               0.0   \n",
       "2                                               0.0   \n",
       "3                                               0.0   \n",
       "4                                               0.0   \n",
       "\n",
       "   fifty_percentile|Carbon monoxide  fifty_percentile|Nitrogen dioxide (NO2)  \\\n",
       "0                               0.0                                      0.0   \n",
       "1                               0.7                                     17.0   \n",
       "2                               0.0                                      0.0   \n",
       "3                               0.0                                      0.0   \n",
       "4                               0.0                                      0.0   \n",
       "\n",
       "   ...  ten_percentile|Nitrogen dioxide (NO2)  ten_percentile|Ozone  \\\n",
       "0  ...                                    0.0              0.031000   \n",
       "1  ...                                    5.0              0.029333   \n",
       "2  ...                                    0.0              0.027000   \n",
       "3  ...                                    0.0              0.026000   \n",
       "4  ...                                    0.0              0.023500   \n",
       "\n",
       "   ten_percentile|PM2.5 - Local Conditions  third_max_value|Carbon monoxide  \\\n",
       "0                                      0.0                             0.00   \n",
       "1                                      0.0                             2.65   \n",
       "2                                      0.0                             0.00   \n",
       "3                                      0.0                             0.00   \n",
       "4                                      0.0                             0.00   \n",
       "\n",
       "   third_max_value|Nitrogen dioxide (NO2)  third_max_value|Ozone  \\\n",
       "0                                     0.0               0.090000   \n",
       "1                                    74.0               0.087667   \n",
       "2                                     0.0               0.091000   \n",
       "3                                     0.0               0.074000   \n",
       "4                                     0.0               0.070500   \n",
       "\n",
       "   third_max_value|PM2.5 - Local Conditions  asthma_deaths_per_100k  \\\n",
       "0                                       0.0                2.016585   \n",
       "1                                       0.0                1.738850   \n",
       "2                                       0.0                1.693894   \n",
       "3                                       0.0                1.995325   \n",
       "4                                       0.0                1.334301   \n",
       "\n",
       "   current_smoking_pct  daily_smoker_pct  \n",
       "0                27.85             24.97  \n",
       "1                25.38             21.43  \n",
       "2                28.77             25.79  \n",
       "3                29.25             26.08  \n",
       "4                28.50             24.41  \n",
       "\n",
       "[5 rows x 59 columns]"
      ]
     },
     "execution_count": 1,
     "metadata": {},
     "output_type": "execute_result"
    }
   ],
   "source": [
    "import pandas as pd\n",
    "\n",
    "data = pd.read_csv('merged.csv')\n",
    "start=data\n",
    "data=data.drop(columns=['year','fips','state_name','county_name','daily_smoker_lb','daily_smoker_ub','current_smoking_lb','current_smoking_ub','asthma_lb','asthma_ub','Unnamed: 0','Unnamed: 0.1', 'state',\n",
    "       'county', 'sex','latitude|Nitrogen dioxide (NO2)', 'longitude|PM2.5 - Local Conditions',])\n",
    "data.head()"
   ]
  },
  {
   "cell_type": "code",
   "execution_count": 2,
   "metadata": {},
   "outputs": [],
   "source": [
    "# Take 1 - full data, max depth of 5\n",
    "data1 = data[[\n",
    "'arithmetic_mean|Carbon monoxide',\n",
    "       'arithmetic_mean|Nitrogen dioxide (NO2)', 'arithmetic_mean|Ozone',\n",
    "       'arithmetic_mean|PM2.5 - Local Conditions',\n",
    "       'arithmetic_standard_dev|Carbon monoxide',\n",
    "       'arithmetic_standard_dev|Nitrogen dioxide (NO2)',\n",
    "       'arithmetic_standard_dev|Ozone',\n",
    "       'arithmetic_standard_dev|PM2.5 - Local Conditions',\n",
    "       'fifty_percentile|Carbon monoxide',\n",
    "       'fifty_percentile|Nitrogen dioxide (NO2)', 'fifty_percentile|Ozone',\n",
    "       'fifty_percentile|PM2.5 - Local Conditions',\n",
    "       'first_max_value|Carbon monoxide',\n",
    "       'first_max_value|Nitrogen dioxide (NO2)', 'first_max_value|Ozone',\n",
    "       'first_max_value|PM2.5 - Local Conditions',\n",
    "       'fourth_max_value|Carbon monoxide',\n",
    "       'fourth_max_value|Nitrogen dioxide (NO2)', 'fourth_max_value|Ozone',\n",
    "       'fourth_max_value|PM2.5 - Local Conditions',\n",
    "       'ninety_eight_percentile|Carbon monoxide',\n",
    "       'ninety_eight_percentile|Nitrogen dioxide (NO2)',\n",
    "       'ninety_eight_percentile|Ozone',\n",
    "       'ninety_eight_percentile|PM2.5 - Local Conditions',\n",
    "       'ninety_five_percentile|Carbon monoxide',\n",
    "       'ninety_five_percentile|Nitrogen dioxide (NO2)',\n",
    "       'ninety_five_percentile|Ozone',\n",
    "       'ninety_five_percentile|PM2.5 - Local Conditions',\n",
    "       'ninety_nine_percentile|Carbon monoxide',\n",
    "       'ninety_nine_percentile|Nitrogen dioxide (NO2)',\n",
    "       'ninety_nine_percentile|Ozone',\n",
    "       'ninety_nine_percentile|PM2.5 - Local Conditions',\n",
    "       'ninety_percentile|Carbon monoxide',\n",
    "       'ninety_percentile|Nitrogen dioxide (NO2)', 'ninety_percentile|Ozone',\n",
    "       'ninety_percentile|PM2.5 - Local Conditions',\n",
    "       'observation_percent|Carbon monoxide',\n",
    "       'observation_percent|Nitrogen dioxide (NO2)',\n",
    "       'observation_percent|Ozone',\n",
    "       'observation_percent|PM2.5 - Local Conditions',\n",
    "       'second_max_value|Carbon monoxide',\n",
    "       'second_max_value|Nitrogen dioxide (NO2)', 'second_max_value|Ozone',\n",
    "       'second_max_value|PM2.5 - Local Conditions',\n",
    "       'seventy_five_percentile|Carbon monoxide',\n",
    "       'seventy_five_percentile|Nitrogen dioxide (NO2)',\n",
    "       'seventy_five_percentile|Ozone',\n",
    "       'seventy_five_percentile|PM2.5 - Local Conditions',\n",
    "       'ten_percentile|Carbon monoxide',\n",
    "       'ten_percentile|Nitrogen dioxide (NO2)', 'ten_percentile|Ozone',\n",
    "       'ten_percentile|PM2.5 - Local Conditions',\n",
    "       'third_max_value|Carbon monoxide',\n",
    "       'third_max_value|Nitrogen dioxide (NO2)', 'third_max_value|Ozone',\n",
    "       'third_max_value|PM2.5 - Local Conditions', 'asthma_deaths_per_100k',\n",
    "#        'current_smoking_pct', 'daily_smoker_pct'\n",
    "       ]]\n",
    "response = data1.pop('asthma_deaths_per_100k')"
   ]
  },
  {
   "cell_type": "code",
   "execution_count": 3,
   "metadata": {},
   "outputs": [],
   "source": [
    "from sklearn.model_selection import train_test_split\n",
    "\n",
    "y = response.values.reshape(-1, 1)\n",
    "\n",
    "X_train, X_test, y_train, y_test = train_test_split(data1, y, random_state=42)"
   ]
  },
  {
   "cell_type": "code",
   "execution_count": 4,
   "metadata": {},
   "outputs": [
    {
     "name": "stdout",
     "output_type": "stream",
     "text": [
      "Average baseline error:  0.40729\n"
     ]
    }
   ],
   "source": [
    "# The baseline predictions are the averages\n",
    "import numpy as np\n",
    "baseline_preds = np.mean(y)\n",
    "\n",
    "# Baseline errors, and display average baseline error\n",
    "baseline_errors = abs(baseline_preds - response)\n",
    "print('Average baseline error: ', round(np.mean(baseline_errors), 5))"
   ]
  },
  {
   "cell_type": "code",
   "execution_count": null,
   "metadata": {},
   "outputs": [],
   "source": []
  },
  {
   "cell_type": "code",
   "execution_count": null,
   "metadata": {},
   "outputs": [],
   "source": []
  },
  {
   "cell_type": "code",
   "execution_count": 5,
   "metadata": {},
   "outputs": [],
   "source": [
    "from sklearn.preprocessing import StandardScaler\n",
    "X_scaler = StandardScaler().fit(X_train)"
   ]
  },
  {
   "cell_type": "code",
   "execution_count": 6,
   "metadata": {},
   "outputs": [],
   "source": [
    "X_train_scaled = X_scaler.transform(X_train)\n",
    "X_test_scaled = X_scaler.transform(X_test)"
   ]
  },
  {
   "cell_type": "code",
   "execution_count": 7,
   "metadata": {},
   "outputs": [
    {
     "name": "stdout",
     "output_type": "stream",
     "text": [
      "[5.05760769e-02 1.16535453e-01 2.35449448e-03 6.31509385e-03\n",
      " 1.29048935e-02 6.71873725e-03 8.55832785e-02 4.22424580e-05\n",
      " 3.33872807e-02 6.89633669e-03 4.36019058e-02 4.49348089e-03\n",
      " 3.98878830e-04 3.53145498e-03 4.21966733e-02 1.26401101e-03\n",
      " 2.40356680e-02 5.85804869e-03 0.00000000e+00 6.62856108e-03\n",
      " 2.45212279e-03 5.34981424e-03 4.09436155e-04 0.00000000e+00\n",
      " 1.52163407e-02 6.93081701e-03 0.00000000e+00 2.33528949e-03\n",
      " 4.79138365e-02 2.64743622e-02 1.34023069e-03 7.62544381e-04\n",
      " 4.25610669e-03 3.86633447e-03 7.19537800e-04 6.91886528e-03\n",
      " 2.20654876e-02 7.99022521e-03 5.28764044e-02 2.50797537e-02\n",
      " 1.05282405e-01 6.84323131e-04 1.00274893e-02 6.47899779e-06\n",
      " 3.21031051e-04 4.59096848e-04 2.89742181e-02 3.58263173e-03\n",
      " 4.48026502e-03 7.59459061e-02 3.39786330e-02 3.73541407e-02\n",
      " 2.14701048e-03 1.02076000e-02 2.68691535e-04 0.00000000e+00]\n"
     ]
    }
   ],
   "source": [
    "from sklearn.ensemble import RandomForestRegressor\n",
    "\n",
    "regr = RandomForestRegressor(max_depth=5, random_state=42,n_estimators=10)\n",
    "regr.fit(X_train_scaled, np.ravel(y_train))\n",
    "RandomForestRegressor(bootstrap=False, criterion='mse', max_depth=5,\n",
    "           max_features='auto', max_leaf_nodes=6,\n",
    "           min_impurity_decrease=0.0, min_impurity_split=None,\n",
    "           min_samples_leaf=2, min_samples_split=2,\n",
    "           min_weight_fraction_leaf=0.0, n_estimators=10, n_jobs=None,\n",
    "           oob_score=False, random_state=42, verbose=0, warm_start=True)\n",
    "\n",
    "print(regr.feature_importances_)"
   ]
  },
  {
   "cell_type": "code",
   "execution_count": 8,
   "metadata": {},
   "outputs": [],
   "source": [
    "pred1=regr.predict(X_test_scaled)"
   ]
  },
  {
   "cell_type": "code",
   "execution_count": 9,
   "metadata": {},
   "outputs": [
    {
     "name": "stdout",
     "output_type": "stream",
     "text": [
      "Average baseline error:  0.43206\n"
     ]
    }
   ],
   "source": [
    "# The baseline predictions are the averages\n",
    "\n",
    "# Baseline errors, and display average baseline error\n",
    "model1_errors = abs(pred1 - y_test)\n",
    "print('Average baseline error: ', round(np.mean(model1_errors), 5))"
   ]
  },
  {
   "cell_type": "code",
   "execution_count": 10,
   "metadata": {},
   "outputs": [
    {
     "name": "stdout",
     "output_type": "stream",
     "text": [
      "[0.04731967 0.22347253 0.         0.         0.         0.\n",
      " 0.         0.         0.         0.         0.02359782 0.\n",
      " 0.         0.         0.05568222 0.         0.02551869 0.\n",
      " 0.         0.         0.         0.         0.         0.\n",
      " 0.         0.         0.         0.         0.08986806 0.\n",
      " 0.         0.         0.         0.         0.         0.\n",
      " 0.         0.         0.07403547 0.         0.21537906 0.\n",
      " 0.         0.         0.         0.         0.         0.\n",
      " 0.         0.14819591 0.05296449 0.04396607 0.         0.\n",
      " 0.         0.        ]\n",
      "Average baseline error:  0.41549\n"
     ]
    }
   ],
   "source": [
    "regr = RandomForestRegressor(max_depth=2, random_state=42,n_estimators=10)\n",
    "regr.fit(X_train_scaled, np.ravel(y_train))\n",
    "RandomForestRegressor(bootstrap=False, criterion='mse', max_depth=2,\n",
    "           max_features='auto', max_leaf_nodes=6,\n",
    "           min_impurity_decrease=0.0, min_impurity_split=None,\n",
    "           min_samples_leaf=2, min_samples_split=2,\n",
    "           min_weight_fraction_leaf=0.0, n_estimators=10, n_jobs=None,\n",
    "           oob_score=False, random_state=42, verbose=0, warm_start=True)\n",
    "\n",
    "print(regr.feature_importances_)\n",
    "\n",
    "# print(regr.predict([[0, 0, 0, 0]]))\n",
    "\n",
    "pred1=regr.predict(X_test_scaled)\n",
    "\n",
    "# The baseline predictions are the averages\n",
    "\n",
    "# Baseline errors, and display average baseline error\n",
    "model1_errors = abs(pred1 - y_test)\n",
    "print('Average baseline error: ', round(np.mean(model1_errors), 5))"
   ]
  },
  {
   "cell_type": "code",
   "execution_count": 11,
   "metadata": {},
   "outputs": [
    {
     "name": "stdout",
     "output_type": "stream",
     "text": [
      "[0.6 0.4]\n",
      "Average baseline error:  0.40881\n"
     ]
    }
   ],
   "source": [
    "# Take 3 - very short data, max depth of 1\n",
    "data1 = data[[\n",
    "'arithmetic_mean|Carbon monoxide',\n",
    "       'arithmetic_mean|Nitrogen dioxide (NO2)',\n",
    "    'asthma_deaths_per_100k',\n",
    "       ]]\n",
    "response = data1.pop('asthma_deaths_per_100k')\n",
    "\n",
    "y = response.values.reshape(-1, 1)\n",
    "\n",
    "X_train, X_test, y_train, y_test = train_test_split(data1, y, random_state=42)\n",
    "\n",
    "X_scaler = StandardScaler().fit(X_train)\n",
    "\n",
    "X_train_scaled = X_scaler.transform(X_train)\n",
    "X_test_scaled = X_scaler.transform(X_test)\n",
    "data_scaled = X_scaler.transform(data1)\n",
    "\n",
    "regr = RandomForestRegressor(max_depth=1, random_state=42,n_estimators=10)\n",
    "regr.fit(X_train_scaled, np.ravel(y_train))\n",
    "RandomForestRegressor(bootstrap=False, criterion='mse', max_depth=1,\n",
    "           max_features='auto', max_leaf_nodes=6,\n",
    "           min_impurity_decrease=0.0, min_impurity_split=None,\n",
    "           min_samples_leaf=2, min_samples_split=2,\n",
    "           min_weight_fraction_leaf=0.0, n_estimators=10, n_jobs=None,\n",
    "           oob_score=False, random_state=42, verbose=0, warm_start=True)\n",
    "\n",
    "print(regr.feature_importances_)\n",
    "\n",
    "pred1=regr.predict(X_test_scaled)\n",
    "\n",
    "model1_errors = abs(pred1 - y_test)\n",
    "print('Average baseline error: ', round(np.mean(model1_errors), 5))"
   ]
  },
  {
   "cell_type": "code",
   "execution_count": 12,
   "metadata": {},
   "outputs": [],
   "source": [
    "# Append predictions to data"
   ]
  },
  {
   "cell_type": "code",
   "execution_count": 13,
   "metadata": {},
   "outputs": [],
   "source": [
    "# Drop columns which don't match\n",
    "start=start.drop(columns=['Unnamed: 0.1', 'state',\n",
    "       'county', 'sex', 'asthma_deaths_per_100k', 'asthma_lb', 'asthma_ub',\n",
    "       'current_smoking_pct', 'current_smoking_lb', 'current_smoking_ub',\n",
    "       'daily_smoker_pct', 'daily_smoker_lb', 'daily_smoker_ub',])"
   ]
  },
  {
   "cell_type": "code",
   "execution_count": 14,
   "metadata": {},
   "outputs": [],
   "source": [
    "start['asthma_deaths_per_100k']=regr.predict(data_scaled)\n",
    "start['obs/predicted'] = 'obs'"
   ]
  },
  {
   "cell_type": "code",
   "execution_count": 16,
   "metadata": {},
   "outputs": [],
   "source": [
    "# import data for which we have no asthma data\n",
    "no_smoking = pd.read_csv('no_asthma.csv')"
   ]
  },
  {
   "cell_type": "code",
   "execution_count": 17,
   "metadata": {},
   "outputs": [],
   "source": [
    "# Take just desired columns\n",
    "no_smoking_short = no_smoking[[\n",
    "'arithmetic_mean|Carbon monoxide',\n",
    "       'arithmetic_mean|Nitrogen dioxide (NO2)',]]\n",
    "no_smoking_scaled = X_scaler.transform(no_smoking_short)"
   ]
  },
  {
   "cell_type": "code",
   "execution_count": 18,
   "metadata": {},
   "outputs": [],
   "source": [
    "# Predict values\n",
    "no_smoking['asthma_deaths_per_100k']=regr.predict(no_smoking_scaled)\n",
    "no_smoking['obs/predicted']='pred'"
   ]
  },
  {
   "cell_type": "code",
   "execution_count": 21,
   "metadata": {},
   "outputs": [],
   "source": [
    "# Combine two dataframes\n",
    "combined=start.append(no_smoking)"
   ]
  },
  {
   "cell_type": "code",
   "execution_count": 24,
   "metadata": {},
   "outputs": [],
   "source": [
    "combined.to_csv('random_forest_values.csv')"
   ]
  },
  {
   "cell_type": "code",
   "execution_count": 23,
   "metadata": {},
   "outputs": [
    {
     "data": {
      "text/plain": [
       "16450"
      ]
     },
     "execution_count": 23,
     "metadata": {},
     "output_type": "execute_result"
    }
   ],
   "source": [
    "len(combined['asthma_deaths_per_100k'])"
   ]
  },
  {
   "cell_type": "code",
   "execution_count": null,
   "metadata": {},
   "outputs": [],
   "source": []
  }
 ],
 "metadata": {
  "kernelspec": {
   "display_name": "Python 3",
   "language": "python",
   "name": "python3"
  },
  "language_info": {
   "codemirror_mode": {
    "name": "ipython",
    "version": 3
   },
   "file_extension": ".py",
   "mimetype": "text/x-python",
   "name": "python",
   "nbconvert_exporter": "python",
   "pygments_lexer": "ipython3",
   "version": "3.7.2"
  }
 },
 "nbformat": 4,
 "nbformat_minor": 2
}
