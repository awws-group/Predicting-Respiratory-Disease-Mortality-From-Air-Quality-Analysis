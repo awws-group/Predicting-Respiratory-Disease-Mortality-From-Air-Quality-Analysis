{
 "cells": [
  {
   "cell_type": "markdown",
   "metadata": {},
   "source": [
    "Import Data"
   ]
  },
  {
   "cell_type": "code",
   "execution_count": 2,
   "metadata": {},
   "outputs": [
    {
     "data": {
      "text/html": [
       "<div>\n",
       "<style scoped>\n",
       "    .dataframe tbody tr th:only-of-type {\n",
       "        vertical-align: middle;\n",
       "    }\n",
       "\n",
       "    .dataframe tbody tr th {\n",
       "        vertical-align: top;\n",
       "    }\n",
       "\n",
       "    .dataframe thead th {\n",
       "        text-align: right;\n",
       "    }\n",
       "</style>\n",
       "<table border=\"1\" class=\"dataframe\">\n",
       "  <thead>\n",
       "    <tr style=\"text-align: right;\">\n",
       "      <th></th>\n",
       "      <th>arithmetic_mean</th>\n",
       "      <th>arithmetic_standard_dev</th>\n",
       "      <th>county_code</th>\n",
       "      <th>county_name</th>\n",
       "      <th>fifty_percentile</th>\n",
       "      <th>first_max_value</th>\n",
       "      <th>fourth_max_value</th>\n",
       "      <th>latitude</th>\n",
       "      <th>longitude</th>\n",
       "      <th>ninety_eight_percentile</th>\n",
       "      <th>...</th>\n",
       "      <th>ninety_percentile</th>\n",
       "      <th>parameter_name</th>\n",
       "      <th>second_max_value</th>\n",
       "      <th>seventy_five_percentile</th>\n",
       "      <th>site_num</th>\n",
       "      <th>state_code</th>\n",
       "      <th>state_name</th>\n",
       "      <th>ten_percentile</th>\n",
       "      <th>third_max_value</th>\n",
       "      <th>year</th>\n",
       "    </tr>\n",
       "  </thead>\n",
       "  <tbody>\n",
       "    <tr>\n",
       "      <th>0</th>\n",
       "      <td>4.193443</td>\n",
       "      <td>7.078815</td>\n",
       "      <td>001</td>\n",
       "      <td>Ada</td>\n",
       "      <td>4.4</td>\n",
       "      <td>17.8</td>\n",
       "      <td>14.3</td>\n",
       "      <td>43.643055</td>\n",
       "      <td>-116.265718</td>\n",
       "      <td>16.7</td>\n",
       "      <td>...</td>\n",
       "      <td>13.5</td>\n",
       "      <td>Ambient Min Temperature</td>\n",
       "      <td>16.7</td>\n",
       "      <td>10.2</td>\n",
       "      <td>0021</td>\n",
       "      <td>16</td>\n",
       "      <td>Idaho</td>\n",
       "      <td>-5.1</td>\n",
       "      <td>14.4</td>\n",
       "      <td>2003</td>\n",
       "    </tr>\n",
       "    <tr>\n",
       "      <th>1</th>\n",
       "      <td>0.200000</td>\n",
       "      <td>0.134840</td>\n",
       "      <td>001</td>\n",
       "      <td>Ada</td>\n",
       "      <td>0.1</td>\n",
       "      <td>0.5</td>\n",
       "      <td>0.4</td>\n",
       "      <td>43.643055</td>\n",
       "      <td>-116.265718</td>\n",
       "      <td>0.5</td>\n",
       "      <td>...</td>\n",
       "      <td>0.4</td>\n",
       "      <td>Sample Flow Rate- CV</td>\n",
       "      <td>0.4</td>\n",
       "      <td>0.3</td>\n",
       "      <td>0021</td>\n",
       "      <td>16</td>\n",
       "      <td>Idaho</td>\n",
       "      <td>0.1</td>\n",
       "      <td>0.4</td>\n",
       "      <td>2002</td>\n",
       "    </tr>\n",
       "    <tr>\n",
       "      <th>2</th>\n",
       "      <td>0.156000</td>\n",
       "      <td>0.112101</td>\n",
       "      <td>001</td>\n",
       "      <td>Ada</td>\n",
       "      <td>0.1</td>\n",
       "      <td>0.5</td>\n",
       "      <td>0.3</td>\n",
       "      <td>43.643055</td>\n",
       "      <td>-116.265718</td>\n",
       "      <td>0.5</td>\n",
       "      <td>...</td>\n",
       "      <td>0.3</td>\n",
       "      <td>Sample Flow Rate- CV</td>\n",
       "      <td>0.4</td>\n",
       "      <td>0.1</td>\n",
       "      <td>0021</td>\n",
       "      <td>16</td>\n",
       "      <td>Idaho</td>\n",
       "      <td>0.1</td>\n",
       "      <td>0.3</td>\n",
       "      <td>2004</td>\n",
       "    </tr>\n",
       "    <tr>\n",
       "      <th>3</th>\n",
       "      <td>9.912000</td>\n",
       "      <td>9.961355</td>\n",
       "      <td>001</td>\n",
       "      <td>Ada</td>\n",
       "      <td>7.1</td>\n",
       "      <td>43.2</td>\n",
       "      <td>16.2</td>\n",
       "      <td>43.643055</td>\n",
       "      <td>-116.265718</td>\n",
       "      <td>43.2</td>\n",
       "      <td>...</td>\n",
       "      <td>18.9</td>\n",
       "      <td>PM2.5 - Local Conditions</td>\n",
       "      <td>36.6</td>\n",
       "      <td>8.5</td>\n",
       "      <td>0021</td>\n",
       "      <td>16</td>\n",
       "      <td>Idaho</td>\n",
       "      <td>3.2</td>\n",
       "      <td>18.9</td>\n",
       "      <td>2004</td>\n",
       "    </tr>\n",
       "    <tr>\n",
       "      <th>4</th>\n",
       "      <td>15.591304</td>\n",
       "      <td>14.466825</td>\n",
       "      <td>001</td>\n",
       "      <td>Ada</td>\n",
       "      <td>10.4</td>\n",
       "      <td>62.7</td>\n",
       "      <td>27.6</td>\n",
       "      <td>43.643055</td>\n",
       "      <td>-116.265718</td>\n",
       "      <td>62.7</td>\n",
       "      <td>...</td>\n",
       "      <td>33.1</td>\n",
       "      <td>PM2.5 - Local Conditions</td>\n",
       "      <td>40.8</td>\n",
       "      <td>21.1</td>\n",
       "      <td>0021</td>\n",
       "      <td>16</td>\n",
       "      <td>Idaho</td>\n",
       "      <td>4.6</td>\n",
       "      <td>33.1</td>\n",
       "      <td>2002</td>\n",
       "    </tr>\n",
       "  </tbody>\n",
       "</table>\n",
       "<p>5 rows × 22 columns</p>\n",
       "</div>"
      ],
      "text/plain": [
       "   arithmetic_mean  arithmetic_standard_dev county_code county_name  \\\n",
       "0         4.193443                 7.078815         001         Ada   \n",
       "1         0.200000                 0.134840         001         Ada   \n",
       "2         0.156000                 0.112101         001         Ada   \n",
       "3         9.912000                 9.961355         001         Ada   \n",
       "4        15.591304                14.466825         001         Ada   \n",
       "\n",
       "   fifty_percentile  first_max_value  fourth_max_value   latitude   longitude  \\\n",
       "0               4.4             17.8              14.3  43.643055 -116.265718   \n",
       "1               0.1              0.5               0.4  43.643055 -116.265718   \n",
       "2               0.1              0.5               0.3  43.643055 -116.265718   \n",
       "3               7.1             43.2              16.2  43.643055 -116.265718   \n",
       "4              10.4             62.7              27.6  43.643055 -116.265718   \n",
       "\n",
       "   ninety_eight_percentile  ...  ninety_percentile            parameter_name  \\\n",
       "0                     16.7  ...               13.5   Ambient Min Temperature   \n",
       "1                      0.5  ...                0.4      Sample Flow Rate- CV   \n",
       "2                      0.5  ...                0.3      Sample Flow Rate- CV   \n",
       "3                     43.2  ...               18.9  PM2.5 - Local Conditions   \n",
       "4                     62.7  ...               33.1  PM2.5 - Local Conditions   \n",
       "\n",
       "   second_max_value seventy_five_percentile  site_num  state_code state_name  \\\n",
       "0              16.7                    10.2      0021          16      Idaho   \n",
       "1               0.4                     0.3      0021          16      Idaho   \n",
       "2               0.4                     0.1      0021          16      Idaho   \n",
       "3              36.6                     8.5      0021          16      Idaho   \n",
       "4              40.8                    21.1      0021          16      Idaho   \n",
       "\n",
       "  ten_percentile third_max_value  year  \n",
       "0           -5.1            14.4  2003  \n",
       "1            0.1             0.4  2002  \n",
       "2            0.1             0.3  2004  \n",
       "3            3.2            18.9  2004  \n",
       "4            4.6            33.1  2002  \n",
       "\n",
       "[5 rows x 22 columns]"
      ]
     },
     "execution_count": 2,
     "metadata": {},
     "output_type": "execute_result"
    }
   ],
   "source": [
    "# Dependencies and Setup\n",
    "import pandas as pd\n",
    "import numpy as np\n",
    "\n",
    "# File to Load\n",
    "file = \"env_data.json\"\n",
    "\n",
    "# Read\n",
    "env_data = pd.read_json(file, dtype=False, lines=True)\n",
    "env_data.head()\n"
   ]
  },
  {
   "cell_type": "markdown",
   "metadata": {},
   "source": [
    "Data Checks"
   ]
  },
  {
   "cell_type": "code",
   "execution_count": null,
   "metadata": {},
   "outputs": [],
   "source": [
    "#quick check of data types\n",
    "# env_data.dtypes"
   ]
  },
  {
   "cell_type": "code",
   "execution_count": null,
   "metadata": {},
   "outputs": [],
   "source": [
    "# env_data.parameter_name.unique().tolist()"
   ]
  },
  {
   "cell_type": "code",
   "execution_count": 2,
   "metadata": {
    "scrolled": true
   },
   "outputs": [
    {
     "data": {
      "text/html": [
       "<div>\n",
       "<style scoped>\n",
       "    .dataframe tbody tr th:only-of-type {\n",
       "        vertical-align: middle;\n",
       "    }\n",
       "\n",
       "    .dataframe tbody tr th {\n",
       "        vertical-align: top;\n",
       "    }\n",
       "\n",
       "    .dataframe thead th {\n",
       "        text-align: right;\n",
       "    }\n",
       "</style>\n",
       "<table border=\"1\" class=\"dataframe\">\n",
       "  <thead>\n",
       "    <tr style=\"text-align: right;\">\n",
       "      <th></th>\n",
       "      <th>arithmetic_mean</th>\n",
       "      <th>arithmetic_standard_dev</th>\n",
       "      <th>county_code</th>\n",
       "      <th>county_name</th>\n",
       "      <th>fifty_percentile</th>\n",
       "      <th>first_max_value</th>\n",
       "      <th>fourth_max_value</th>\n",
       "      <th>latitude</th>\n",
       "      <th>longitude</th>\n",
       "      <th>ninety_eight_percentile</th>\n",
       "      <th>...</th>\n",
       "      <th>second_max_value</th>\n",
       "      <th>seventy_five_percentile</th>\n",
       "      <th>site_num</th>\n",
       "      <th>state_code</th>\n",
       "      <th>state_name</th>\n",
       "      <th>ten_percentile</th>\n",
       "      <th>third_max_value</th>\n",
       "      <th>year</th>\n",
       "      <th>fips</th>\n",
       "      <th>key</th>\n",
       "    </tr>\n",
       "  </thead>\n",
       "  <tbody>\n",
       "    <tr>\n",
       "      <th>0</th>\n",
       "      <td>4.193443</td>\n",
       "      <td>7.078815</td>\n",
       "      <td>001</td>\n",
       "      <td>Ada</td>\n",
       "      <td>4.4</td>\n",
       "      <td>17.8</td>\n",
       "      <td>14.3</td>\n",
       "      <td>43.643055</td>\n",
       "      <td>-116.265718</td>\n",
       "      <td>16.7</td>\n",
       "      <td>...</td>\n",
       "      <td>16.7</td>\n",
       "      <td>10.2</td>\n",
       "      <td>0021</td>\n",
       "      <td>16</td>\n",
       "      <td>Idaho</td>\n",
       "      <td>-5.1</td>\n",
       "      <td>14.4</td>\n",
       "      <td>2003</td>\n",
       "      <td>16001</td>\n",
       "      <td>160012003</td>\n",
       "    </tr>\n",
       "    <tr>\n",
       "      <th>1</th>\n",
       "      <td>0.200000</td>\n",
       "      <td>0.134840</td>\n",
       "      <td>001</td>\n",
       "      <td>Ada</td>\n",
       "      <td>0.1</td>\n",
       "      <td>0.5</td>\n",
       "      <td>0.4</td>\n",
       "      <td>43.643055</td>\n",
       "      <td>-116.265718</td>\n",
       "      <td>0.5</td>\n",
       "      <td>...</td>\n",
       "      <td>0.4</td>\n",
       "      <td>0.3</td>\n",
       "      <td>0021</td>\n",
       "      <td>16</td>\n",
       "      <td>Idaho</td>\n",
       "      <td>0.1</td>\n",
       "      <td>0.4</td>\n",
       "      <td>2002</td>\n",
       "      <td>16001</td>\n",
       "      <td>160012002</td>\n",
       "    </tr>\n",
       "    <tr>\n",
       "      <th>2</th>\n",
       "      <td>0.156000</td>\n",
       "      <td>0.112101</td>\n",
       "      <td>001</td>\n",
       "      <td>Ada</td>\n",
       "      <td>0.1</td>\n",
       "      <td>0.5</td>\n",
       "      <td>0.3</td>\n",
       "      <td>43.643055</td>\n",
       "      <td>-116.265718</td>\n",
       "      <td>0.5</td>\n",
       "      <td>...</td>\n",
       "      <td>0.4</td>\n",
       "      <td>0.1</td>\n",
       "      <td>0021</td>\n",
       "      <td>16</td>\n",
       "      <td>Idaho</td>\n",
       "      <td>0.1</td>\n",
       "      <td>0.3</td>\n",
       "      <td>2004</td>\n",
       "      <td>16001</td>\n",
       "      <td>160012004</td>\n",
       "    </tr>\n",
       "    <tr>\n",
       "      <th>3</th>\n",
       "      <td>9.912000</td>\n",
       "      <td>9.961355</td>\n",
       "      <td>001</td>\n",
       "      <td>Ada</td>\n",
       "      <td>7.1</td>\n",
       "      <td>43.2</td>\n",
       "      <td>16.2</td>\n",
       "      <td>43.643055</td>\n",
       "      <td>-116.265718</td>\n",
       "      <td>43.2</td>\n",
       "      <td>...</td>\n",
       "      <td>36.6</td>\n",
       "      <td>8.5</td>\n",
       "      <td>0021</td>\n",
       "      <td>16</td>\n",
       "      <td>Idaho</td>\n",
       "      <td>3.2</td>\n",
       "      <td>18.9</td>\n",
       "      <td>2004</td>\n",
       "      <td>16001</td>\n",
       "      <td>160012004</td>\n",
       "    </tr>\n",
       "    <tr>\n",
       "      <th>4</th>\n",
       "      <td>15.591304</td>\n",
       "      <td>14.466825</td>\n",
       "      <td>001</td>\n",
       "      <td>Ada</td>\n",
       "      <td>10.4</td>\n",
       "      <td>62.7</td>\n",
       "      <td>27.6</td>\n",
       "      <td>43.643055</td>\n",
       "      <td>-116.265718</td>\n",
       "      <td>62.7</td>\n",
       "      <td>...</td>\n",
       "      <td>40.8</td>\n",
       "      <td>21.1</td>\n",
       "      <td>0021</td>\n",
       "      <td>16</td>\n",
       "      <td>Idaho</td>\n",
       "      <td>4.6</td>\n",
       "      <td>33.1</td>\n",
       "      <td>2002</td>\n",
       "      <td>16001</td>\n",
       "      <td>160012002</td>\n",
       "    </tr>\n",
       "  </tbody>\n",
       "</table>\n",
       "<p>5 rows × 24 columns</p>\n",
       "</div>"
      ],
      "text/plain": [
       "   arithmetic_mean  arithmetic_standard_dev county_code county_name  \\\n",
       "0         4.193443                 7.078815         001         Ada   \n",
       "1         0.200000                 0.134840         001         Ada   \n",
       "2         0.156000                 0.112101         001         Ada   \n",
       "3         9.912000                 9.961355         001         Ada   \n",
       "4        15.591304                14.466825         001         Ada   \n",
       "\n",
       "   fifty_percentile  first_max_value  fourth_max_value   latitude   longitude  \\\n",
       "0               4.4             17.8              14.3  43.643055 -116.265718   \n",
       "1               0.1              0.5               0.4  43.643055 -116.265718   \n",
       "2               0.1              0.5               0.3  43.643055 -116.265718   \n",
       "3               7.1             43.2              16.2  43.643055 -116.265718   \n",
       "4              10.4             62.7              27.6  43.643055 -116.265718   \n",
       "\n",
       "   ninety_eight_percentile  ...  second_max_value  seventy_five_percentile  \\\n",
       "0                     16.7  ...              16.7                     10.2   \n",
       "1                      0.5  ...               0.4                      0.3   \n",
       "2                      0.5  ...               0.4                      0.1   \n",
       "3                     43.2  ...              36.6                      8.5   \n",
       "4                     62.7  ...              40.8                     21.1   \n",
       "\n",
       "   site_num state_code  state_name  ten_percentile third_max_value  year  \\\n",
       "0      0021         16       Idaho            -5.1            14.4  2003   \n",
       "1      0021         16       Idaho             0.1             0.4  2002   \n",
       "2      0021         16       Idaho             0.1             0.3  2004   \n",
       "3      0021         16       Idaho             3.2            18.9  2004   \n",
       "4      0021         16       Idaho             4.6            33.1  2002   \n",
       "\n",
       "    fips        key  \n",
       "0  16001  160012003  \n",
       "1  16001  160012002  \n",
       "2  16001  160012004  \n",
       "3  16001  160012004  \n",
       "4  16001  160012002  \n",
       "\n",
       "[5 rows x 24 columns]"
      ]
     },
     "execution_count": 2,
     "metadata": {},
     "output_type": "execute_result"
    }
   ],
   "source": [
    "env_data[\"fips\"] = env_data[\"state_code\"] + env_data[\"county_code\"]\n",
    "env_data[\"key\"] = env_data[\"state_code\"] + env_data[\"county_code\"] + env_data[\"year\"]\n",
    "env_data.head()"
   ]
  },
  {
   "cell_type": "code",
   "execution_count": null,
   "metadata": {},
   "outputs": [],
   "source": []
  },
  {
   "cell_type": "code",
   "execution_count": 3,
   "metadata": {},
   "outputs": [],
   "source": [
    "env_data.to_csv(r'env_data.csv', index = None, header=True)"
   ]
  },
  {
   "cell_type": "code",
   "execution_count": null,
   "metadata": {},
   "outputs": [],
   "source": [
    "## Placeholder and start point if needed"
   ]
  },
  {
   "cell_type": "code",
   "execution_count": 1,
   "metadata": {},
   "outputs": [
    {
     "name": "stderr",
     "output_type": "stream",
     "text": [
      "/home/john/anaconda3/lib/python3.7/site-packages/IPython/core/interactiveshell.py:3049: DtypeWarning: Columns (17,22,23) have mixed types. Specify dtype option on import or set low_memory=False.\n",
      "  interactivity=interactivity, compiler=compiler, result=result)\n"
     ]
    },
    {
     "data": {
      "text/plain": [
       "(2093880, 24)"
      ]
     },
     "execution_count": 1,
     "metadata": {},
     "output_type": "execute_result"
    }
   ],
   "source": [
    "import pandas as pd\n",
    "import numpy as np\n",
    "\n",
    "file = \"env_data.csv\"\n",
    "\n",
    "# Read\n",
    "env_data = pd.read_csv(file)\n",
    "env_data.head()\n",
    "env_data.shape"
   ]
  },
  {
   "cell_type": "code",
   "execution_count": 2,
   "metadata": {},
   "outputs": [],
   "source": [
    "# PM10 - LC\n",
    "# PM2.5 - Local Conditions\n",
    "# Ozone\n",
    "# Oxides of nitrogen (NOx)\n",
    "# Carbon monoxide\n",
    "# Nitrogen dioxide (NO2)\n",
    "# Methane\n",
    "# NITROUS OXIDE\n",
    "# Carbon dioxide\n",
    "\n",
    "# dfPM10 = env_data.loc[env_data['parameter_name'] == \"PM10 - LC\"]\n",
    "dfPM25 = env_data.loc[env_data['parameter_name'] == \"PM2.5 - Local Conditions\"]\n",
    "dfOzone = env_data.loc[env_data['parameter_name'] == \"Ozone\"]\n",
    "# dfNOX = env_data.loc[env_data['parameter_name'] == \"Oxides of nitrogen (NOx)\"]\n",
    "dfCO = env_data.loc[env_data['parameter_name'] == \"Carbon monoxide\"]\n",
    "dfNO2 = env_data.loc[env_data['parameter_name'] == \"Nitrogen dioxide (NO2)\"]\n",
    "# dfNO = env_data.loc[env_data['parameter_name'] == \"NITROUS OXIDE\"]\n",
    "# dfMethane = env_data.loc[env_data['parameter_name'] == \"Methane\"]\n",
    "# dfCO2 = env_data.loc[env_data['parameter_name'] == \"Carbon dioxide\"]"
   ]
  },
  {
   "cell_type": "code",
   "execution_count": 6,
   "metadata": {},
   "outputs": [
    {
     "data": {
      "text/plain": [
       "(15275, 13)"
      ]
     },
     "execution_count": 6,
     "metadata": {},
     "output_type": "execute_result"
    }
   ],
   "source": [
    "# pm2.5 is a better health indicator and this data is limited\n",
    "\n",
    "# dfPM10 = dfPM10.rename(columns={'arithmetic_mean': 'PM10_mean', 'arithmetic_standard_dev': 'PM10_std_dev',\\\n",
    "#                        'fifty_percentile': 'PM10_50', 'first_max_value': 'PM10_first_max',\\\n",
    "#                        'fourth_max_value': 'PM10_fourth_max', 'ninety_eight_percentile': 'PM10_98',\\\n",
    "#                        'second_max_value': 'PM10_second_max', 'seventy_five_percentile': 'PM10_75',\\\n",
    "#                         'ninety_five_percentile': 'PM10_95', 'ninety_nine_percentile': 'PM10_99',\\\n",
    "#                         'ninety_percentile': 'PM10_90', 'ten_percentile': 'PM10_10', 'third_max_value': 'PM10_third_max'})\n",
    "\n",
    "# dfPM10 = dfPM10.rename(columns={'arithmetic_mean': 'PM10_mean', 'first_max_value': 'PM10_first_max',\\\n",
    "#                                 'ninety_five_percentile': 'PM10_95'})\n",
    "# dfPM10 = dfPM10.drop(columns=['parameter_name', 'arithmetic_standard_dev', 'fifty_percentile', 'fourth_max_value',\\\n",
    "#                                 'ninety_eight_percentile', 'second_max_value', 'seventy_five_percentile',\\\n",
    "#                                 'ninety_nine_percentile', 'ninety_percentile', 'ten_percentile',\\\n",
    "#                                 'third_max_value'])\n",
    "# dfPM10.head()\n",
    "# dfPM10.shape"
   ]
  },
  {
   "cell_type": "code",
   "execution_count": 9,
   "metadata": {},
   "outputs": [
    {
     "data": {
      "text/plain": [
       "(118105, 4)"
      ]
     },
     "execution_count": 9,
     "metadata": {},
     "output_type": "execute_result"
    }
   ],
   "source": [
    "# dfPM25 = env_data.loc[env_data['parameter_name'] == \"PM2.5 - Local Conditions\"]\n",
    "# # dfPM25 = dfPM25.rename(columns={'parameter_name': 'PM25'}, inplace=True)\n",
    "dfPM25 = dfPM25.rename(columns={'arithmetic_mean': 'PM25_mean', 'first_max_value': 'PM25_first_max',\\\n",
    "                                'ninety_five_percentile': 'PM25_95'})\n",
    "dfPM25 = dfPM25.drop(columns=['parameter_name', 'arithmetic_standard_dev', 'fifty_percentile', 'fourth_max_value',\\\n",
    "                                'county_code', 'ninety_eight_percentile', 'second_max_value', 'seventy_five_percentile',\\\n",
    "                                'ninety_nine_percentile', 'ninety_percentile', 'ten_percentile', 'county_name',\\\n",
    "                                'third_max_value', 'latitude','longitude', 'site_num', 'state_code', 'state_name', 'year', 'fips'])\n",
    "dfPM25.head()\n",
    "dfPM25.shape"
   ]
  },
  {
   "cell_type": "code",
   "execution_count": 10,
   "metadata": {},
   "outputs": [
    {
     "data": {
      "text/plain": [
       "(169528, 4)"
      ]
     },
     "execution_count": 10,
     "metadata": {},
     "output_type": "execute_result"
    }
   ],
   "source": [
    "# dfOzone = env_data.loc[env_data['parameter_name'] == \"Ozone\"]\n",
    "# dfOzone = dfOzone.rename(columns={'parameter_name': 'Ozone'})\n",
    "# dfOzone = dfOzone.rename(columns={'arithmetic_mean': 'Ozone_mean', 'arithmetic_standard_dev': 'Ozone_std_dev',\\\n",
    "#                        'fifty_percentile': 'Ozone_50', 'first_max_value': 'Ozone_first_max',\\\n",
    "#                        'fourth_max_value': 'Ozone_fourth_max', 'ninety_eight_percentile': 'Ozone_98',\\\n",
    "#                        'second_max_value': 'Ozone_second_max', 'seventy_five_percentile': 'Ozone_75',\\\n",
    "#                         'ninety_five_percentile': 'Ozone_95', 'ninety_nine_percentile': 'Ozone_99',\\\n",
    "#                         'ninety_percentile': 'Ozone_90', 'ten_percentile': 'Ozone_10', 'third_max_value': 'Ozone_third_max'})\n",
    "dfOzone = dfOzone.rename(columns={'arithmetic_mean': 'Ozone_mean', 'first_max_value': 'Ozone_max',\\\n",
    "                                'ninety_five_percentile': 'Ozone_95'})\n",
    "dfOzone = dfOzone.drop(columns=['parameter_name', 'arithmetic_standard_dev', 'fifty_percentile', 'fourth_max_value',\\\n",
    "                                'county_code', 'ninety_eight_percentile', 'second_max_value', 'seventy_five_percentile',\\\n",
    "                                'ninety_nine_percentile', 'ninety_percentile', 'ten_percentile', 'county_name',\\\n",
    "                                'third_max_value', 'latitude','longitude', 'site_num', 'state_code', 'state_name', 'year', 'fips'])\n",
    "dfOzone.head()\n",
    "dfOzone.shape"
   ]
  },
  {
   "cell_type": "code",
   "execution_count": 9,
   "metadata": {},
   "outputs": [
    {
     "data": {
      "text/plain": [
       "(10426, 4)"
      ]
     },
     "execution_count": 9,
     "metadata": {},
     "output_type": "execute_result"
    }
   ],
   "source": [
    "# NO2 is a better proxy per our discussions\n",
    "\n",
    "# dfNOX = env_data.loc[env_data['parameter_name'] == \"Oxides of nitrogen (NOx)\"]\n",
    "# dfNOX = dfNOX.rename(columns={'parameter_name': 'NOX'})\n",
    "# dfNOX = dfNOX.rename(columns={'arithmetic_mean': 'NOX_mean', 'arithmetic_standard_dev': 'NOX_std_dev',\\\n",
    "#                        'fifty_percentile': 'NOX_50', 'first_max_value': 'NOX_first_max',\\\n",
    "#                        'fourth_max_value': 'NOX_fourth_max', 'ninety_eight_percentile': 'NOX_98',\\\n",
    "#                        'second_max_value': 'NOX_second_max', 'seventy_five_percentile': 'NOX_75',\\\n",
    "#                         'ninety_five_percentile': 'NOX_95', 'ninety_nine_percentile': 'NOX_99',\\\n",
    "#                         'ninety_percentile': 'NOX_90', 'ten_percentile': 'NOX_10', 'third_max_value': 'NOX_third_max'})\n",
    "# dfNOX = dfNOX.rename(columns={'arithmetic_mean': 'NOX_mean', 'first_max_value': 'NOX_max',\\\n",
    "#                                 'ninety_five_percentile': 'NOX_95'})\n",
    "# dfNOX = dfNOX.drop(columns=['parameter_name', 'arithmetic_standard_dev', 'fifty_percentile', 'fourth_max_value',\\\n",
    "#                                 'county_code', 'ninety_eight_percentile', 'second_max_value', 'seventy_five_percentile',\\\n",
    "#                                 'ninety_nine_percentile', 'ninety_percentile', 'ten_percentile', 'county_name',\\\n",
    "#                                 'third_max_value', 'latitude','longitude', 'site_num', 'state_code', 'state_name', 'year', 'fips'])\n",
    "# dfNOX.head()\n",
    "# dfNOX.shape"
   ]
  },
  {
   "cell_type": "code",
   "execution_count": 11,
   "metadata": {},
   "outputs": [
    {
     "data": {
      "text/plain": [
       "(35714, 4)"
      ]
     },
     "execution_count": 11,
     "metadata": {},
     "output_type": "execute_result"
    }
   ],
   "source": [
    "# dfCO = env_data.loc[env_data['parameter_name'] == \"Carbon monoxide\"]\n",
    "# dfCO = dfCO.rename(columns={'parameter_name': 'CO'})\n",
    "# dfCO = dfCO.rename(columns={'arithmetic_mean': 'CO_mean', 'arithmetic_standard_dev': 'CO_std_dev',\\\n",
    "#                        'fifty_percentile': 'CO_50', 'first_max_value': 'CO_first_max',\\\n",
    "#                        'fourth_max_value': 'CO_fourth_max', 'ninety_eight_percentile': 'CO_98',\\\n",
    "#                        'second_max_value': 'CO_second_max', 'seventy_five_percentile': 'CO_75',\\\n",
    "#                         'ninety_five_percentile': 'CO_95', 'ninety_nine_percentile': 'CO_99',\\\n",
    "#                         'ninety_percentile': 'CO_90', 'ten_percentile': 'CO_10', 'third_max_value': 'CO_third_max'})\n",
    "dfCO = dfCO.rename(columns={'arithmetic_mean': 'CO_mean', 'first_max_value': 'CO_max',\\\n",
    "                                'ninety_five_percentile': 'CO_95'})\n",
    "dfCO = dfCO.drop(columns=['parameter_name', 'arithmetic_standard_dev', 'fifty_percentile', 'fourth_max_value',\\\n",
    "                                'county_code', 'ninety_eight_percentile', 'second_max_value', 'seventy_five_percentile',\\\n",
    "                                'ninety_nine_percentile', 'ninety_percentile', 'ten_percentile', 'county_name',\\\n",
    "                                'third_max_value', 'latitude','longitude', 'site_num', 'state_code', 'state_name', 'year', 'fips'])\n",
    "dfCO.head()\n",
    "dfCO.shape"
   ]
  },
  {
   "cell_type": "code",
   "execution_count": 12,
   "metadata": {},
   "outputs": [
    {
     "ename": "KeyError",
     "evalue": "\"['parameter_name' 'arithmetic_standard_dev' 'fifty_percentile'\\n 'fourth_max_value' 'county_code' 'ninety_eight_percentile'\\n 'second_max_value' 'seventy_five_percentile' 'ninety_nine_percentile'\\n 'ninety_percentile' 'ten_percentile' 'county_name' 'third_max_value'\\n 'latitude' 'longitude' 'site_num' 'state_code' 'state_name' 'year' 'fips'] not found in axis\"",
     "output_type": "error",
     "traceback": [
      "\u001b[0;31m---------------------------------------------------------------------------\u001b[0m",
      "\u001b[0;31mKeyError\u001b[0m                                  Traceback (most recent call last)",
      "\u001b[0;32m<ipython-input-12-1444e6c3c48b>\u001b[0m in \u001b[0;36m<module>\u001b[0;34m\u001b[0m\n\u001b[1;32m     12\u001b[0m                                 \u001b[0;34m'county_code'\u001b[0m\u001b[0;34m,\u001b[0m \u001b[0;34m'ninety_eight_percentile'\u001b[0m\u001b[0;34m,\u001b[0m \u001b[0;34m'second_max_value'\u001b[0m\u001b[0;34m,\u001b[0m \u001b[0;34m'seventy_five_percentile'\u001b[0m\u001b[0;34m,\u001b[0m\u001b[0;31m\\\u001b[0m\u001b[0;34m\u001b[0m\u001b[0;34m\u001b[0m\u001b[0m\n\u001b[1;32m     13\u001b[0m                                 \u001b[0;34m'ninety_nine_percentile'\u001b[0m\u001b[0;34m,\u001b[0m \u001b[0;34m'ninety_percentile'\u001b[0m\u001b[0;34m,\u001b[0m \u001b[0;34m'ten_percentile'\u001b[0m\u001b[0;34m,\u001b[0m \u001b[0;34m'county_name'\u001b[0m\u001b[0;34m,\u001b[0m\u001b[0;31m\\\u001b[0m\u001b[0;34m\u001b[0m\u001b[0;34m\u001b[0m\u001b[0m\n\u001b[0;32m---> 14\u001b[0;31m                                 'third_max_value', 'latitude','longitude', 'site_num', 'state_code', 'state_name', 'year', 'fips'])\n\u001b[0m\u001b[1;32m     15\u001b[0m \u001b[0mdfNO2\u001b[0m\u001b[0;34m.\u001b[0m\u001b[0mhead\u001b[0m\u001b[0;34m(\u001b[0m\u001b[0;34m)\u001b[0m\u001b[0;34m\u001b[0m\u001b[0;34m\u001b[0m\u001b[0m\n\u001b[1;32m     16\u001b[0m \u001b[0mdfNO2\u001b[0m\u001b[0;34m.\u001b[0m\u001b[0mshape\u001b[0m\u001b[0;34m\u001b[0m\u001b[0;34m\u001b[0m\u001b[0m\n",
      "\u001b[0;32m~/anaconda3/lib/python3.7/site-packages/pandas/core/frame.py\u001b[0m in \u001b[0;36mdrop\u001b[0;34m(self, labels, axis, index, columns, level, inplace, errors)\u001b[0m\n\u001b[1;32m   3938\u001b[0m                                            \u001b[0mindex\u001b[0m\u001b[0;34m=\u001b[0m\u001b[0mindex\u001b[0m\u001b[0;34m,\u001b[0m \u001b[0mcolumns\u001b[0m\u001b[0;34m=\u001b[0m\u001b[0mcolumns\u001b[0m\u001b[0;34m,\u001b[0m\u001b[0;34m\u001b[0m\u001b[0;34m\u001b[0m\u001b[0m\n\u001b[1;32m   3939\u001b[0m                                            \u001b[0mlevel\u001b[0m\u001b[0;34m=\u001b[0m\u001b[0mlevel\u001b[0m\u001b[0;34m,\u001b[0m \u001b[0minplace\u001b[0m\u001b[0;34m=\u001b[0m\u001b[0minplace\u001b[0m\u001b[0;34m,\u001b[0m\u001b[0;34m\u001b[0m\u001b[0;34m\u001b[0m\u001b[0m\n\u001b[0;32m-> 3940\u001b[0;31m                                            errors=errors)\n\u001b[0m\u001b[1;32m   3941\u001b[0m \u001b[0;34m\u001b[0m\u001b[0m\n\u001b[1;32m   3942\u001b[0m     @rewrite_axis_style_signature('mapper', [('copy', True),\n",
      "\u001b[0;32m~/anaconda3/lib/python3.7/site-packages/pandas/core/generic.py\u001b[0m in \u001b[0;36mdrop\u001b[0;34m(self, labels, axis, index, columns, level, inplace, errors)\u001b[0m\n\u001b[1;32m   3778\u001b[0m         \u001b[0;32mfor\u001b[0m \u001b[0maxis\u001b[0m\u001b[0;34m,\u001b[0m \u001b[0mlabels\u001b[0m \u001b[0;32min\u001b[0m \u001b[0maxes\u001b[0m\u001b[0;34m.\u001b[0m\u001b[0mitems\u001b[0m\u001b[0;34m(\u001b[0m\u001b[0;34m)\u001b[0m\u001b[0;34m:\u001b[0m\u001b[0;34m\u001b[0m\u001b[0;34m\u001b[0m\u001b[0m\n\u001b[1;32m   3779\u001b[0m             \u001b[0;32mif\u001b[0m \u001b[0mlabels\u001b[0m \u001b[0;32mis\u001b[0m \u001b[0;32mnot\u001b[0m \u001b[0;32mNone\u001b[0m\u001b[0;34m:\u001b[0m\u001b[0;34m\u001b[0m\u001b[0;34m\u001b[0m\u001b[0m\n\u001b[0;32m-> 3780\u001b[0;31m                 \u001b[0mobj\u001b[0m \u001b[0;34m=\u001b[0m \u001b[0mobj\u001b[0m\u001b[0;34m.\u001b[0m\u001b[0m_drop_axis\u001b[0m\u001b[0;34m(\u001b[0m\u001b[0mlabels\u001b[0m\u001b[0;34m,\u001b[0m \u001b[0maxis\u001b[0m\u001b[0;34m,\u001b[0m \u001b[0mlevel\u001b[0m\u001b[0;34m=\u001b[0m\u001b[0mlevel\u001b[0m\u001b[0;34m,\u001b[0m \u001b[0merrors\u001b[0m\u001b[0;34m=\u001b[0m\u001b[0merrors\u001b[0m\u001b[0;34m)\u001b[0m\u001b[0;34m\u001b[0m\u001b[0;34m\u001b[0m\u001b[0m\n\u001b[0m\u001b[1;32m   3781\u001b[0m \u001b[0;34m\u001b[0m\u001b[0m\n\u001b[1;32m   3782\u001b[0m         \u001b[0;32mif\u001b[0m \u001b[0minplace\u001b[0m\u001b[0;34m:\u001b[0m\u001b[0;34m\u001b[0m\u001b[0;34m\u001b[0m\u001b[0m\n",
      "\u001b[0;32m~/anaconda3/lib/python3.7/site-packages/pandas/core/generic.py\u001b[0m in \u001b[0;36m_drop_axis\u001b[0;34m(self, labels, axis, level, errors)\u001b[0m\n\u001b[1;32m   3810\u001b[0m                 \u001b[0mnew_axis\u001b[0m \u001b[0;34m=\u001b[0m \u001b[0maxis\u001b[0m\u001b[0;34m.\u001b[0m\u001b[0mdrop\u001b[0m\u001b[0;34m(\u001b[0m\u001b[0mlabels\u001b[0m\u001b[0;34m,\u001b[0m \u001b[0mlevel\u001b[0m\u001b[0;34m=\u001b[0m\u001b[0mlevel\u001b[0m\u001b[0;34m,\u001b[0m \u001b[0merrors\u001b[0m\u001b[0;34m=\u001b[0m\u001b[0merrors\u001b[0m\u001b[0;34m)\u001b[0m\u001b[0;34m\u001b[0m\u001b[0;34m\u001b[0m\u001b[0m\n\u001b[1;32m   3811\u001b[0m             \u001b[0;32melse\u001b[0m\u001b[0;34m:\u001b[0m\u001b[0;34m\u001b[0m\u001b[0;34m\u001b[0m\u001b[0m\n\u001b[0;32m-> 3812\u001b[0;31m                 \u001b[0mnew_axis\u001b[0m \u001b[0;34m=\u001b[0m \u001b[0maxis\u001b[0m\u001b[0;34m.\u001b[0m\u001b[0mdrop\u001b[0m\u001b[0;34m(\u001b[0m\u001b[0mlabels\u001b[0m\u001b[0;34m,\u001b[0m \u001b[0merrors\u001b[0m\u001b[0;34m=\u001b[0m\u001b[0merrors\u001b[0m\u001b[0;34m)\u001b[0m\u001b[0;34m\u001b[0m\u001b[0;34m\u001b[0m\u001b[0m\n\u001b[0m\u001b[1;32m   3813\u001b[0m             \u001b[0mresult\u001b[0m \u001b[0;34m=\u001b[0m \u001b[0mself\u001b[0m\u001b[0;34m.\u001b[0m\u001b[0mreindex\u001b[0m\u001b[0;34m(\u001b[0m\u001b[0;34m**\u001b[0m\u001b[0;34m{\u001b[0m\u001b[0maxis_name\u001b[0m\u001b[0;34m:\u001b[0m \u001b[0mnew_axis\u001b[0m\u001b[0;34m}\u001b[0m\u001b[0;34m)\u001b[0m\u001b[0;34m\u001b[0m\u001b[0;34m\u001b[0m\u001b[0m\n\u001b[1;32m   3814\u001b[0m \u001b[0;34m\u001b[0m\u001b[0m\n",
      "\u001b[0;32m~/anaconda3/lib/python3.7/site-packages/pandas/core/indexes/base.py\u001b[0m in \u001b[0;36mdrop\u001b[0;34m(self, labels, errors)\u001b[0m\n\u001b[1;32m   4963\u001b[0m             \u001b[0;32mif\u001b[0m \u001b[0merrors\u001b[0m \u001b[0;34m!=\u001b[0m \u001b[0;34m'ignore'\u001b[0m\u001b[0;34m:\u001b[0m\u001b[0;34m\u001b[0m\u001b[0;34m\u001b[0m\u001b[0m\n\u001b[1;32m   4964\u001b[0m                 raise KeyError(\n\u001b[0;32m-> 4965\u001b[0;31m                     '{} not found in axis'.format(labels[mask]))\n\u001b[0m\u001b[1;32m   4966\u001b[0m             \u001b[0mindexer\u001b[0m \u001b[0;34m=\u001b[0m \u001b[0mindexer\u001b[0m\u001b[0;34m[\u001b[0m\u001b[0;34m~\u001b[0m\u001b[0mmask\u001b[0m\u001b[0;34m]\u001b[0m\u001b[0;34m\u001b[0m\u001b[0;34m\u001b[0m\u001b[0m\n\u001b[1;32m   4967\u001b[0m         \u001b[0;32mreturn\u001b[0m \u001b[0mself\u001b[0m\u001b[0;34m.\u001b[0m\u001b[0mdelete\u001b[0m\u001b[0;34m(\u001b[0m\u001b[0mindexer\u001b[0m\u001b[0;34m)\u001b[0m\u001b[0;34m\u001b[0m\u001b[0;34m\u001b[0m\u001b[0m\n",
      "\u001b[0;31mKeyError\u001b[0m: \"['parameter_name' 'arithmetic_standard_dev' 'fifty_percentile'\\n 'fourth_max_value' 'county_code' 'ninety_eight_percentile'\\n 'second_max_value' 'seventy_five_percentile' 'ninety_nine_percentile'\\n 'ninety_percentile' 'ten_percentile' 'county_name' 'third_max_value'\\n 'latitude' 'longitude' 'site_num' 'state_code' 'state_name' 'year' 'fips'] not found in axis\""
     ]
    }
   ],
   "source": [
    "# dfNO2 = env_data.loc[env_data['parameter_name'] == \"Nitrogen dioxide (NO2)\"]\n",
    "# dfNO2 = dfNO2.rename(columns={'parameter_name': 'NO2'})\n",
    "# dfNO2 = dfNO2.rename(columns={'arithmetic_mean': 'NO2_mean', 'arithmetic_standard_dev': 'NO2_std_dev',\\\n",
    "#                        'fifty_percentile': 'NO2_50', 'first_max_value': 'NO2_first_max',\\\n",
    "#                        'fourth_max_value': 'NO2_fourth_max', 'ninety_eight_percentile': 'NO2_98',\\\n",
    "#                        'second_max_value': 'NO2_second_max', 'seventy_five_percentile': 'NO2_75',\\\n",
    "#                         'ninety_five_percentile': 'NO2_95', 'ninety_nine_percentile': 'NO2_99',\\\n",
    "#                         'ninety_percentile': 'NO2_90', 'ten_percentile': 'NO2_10', 'third_max_value': 'NO2_third_max'})\n",
    "dfNO2 = dfNO2.rename(columns={'arithmetic_mean': 'NO2_mean', 'first_max_value': 'NO2_max',\\\n",
    "                                'ninety_five_percentile': 'NO2_95'})\n",
    "dfNO2 = dfNO2.drop(columns=['parameter_name', 'arithmetic_standard_dev', 'fifty_percentile', 'fourth_max_value',\\\n",
    "                                'county_code', 'ninety_eight_percentile', 'second_max_value', 'seventy_five_percentile',\\\n",
    "                                'ninety_nine_percentile', 'ninety_percentile', 'ten_percentile', 'county_name',\\\n",
    "                                'third_max_value', 'latitude','longitude', 'site_num', 'state_code', 'state_name', 'year', 'fips'])\n",
    "dfNO2.head()\n",
    "dfNO2.shape"
   ]
  },
  {
   "cell_type": "code",
   "execution_count": 4,
   "metadata": {},
   "outputs": [],
   "source": [
    "dfNO2.to_csv(r'dfNO2.csv', index = None, header=True)"
   ]
  },
  {
   "cell_type": "code",
   "execution_count": 13,
   "metadata": {},
   "outputs": [
    {
     "data": {
      "text/html": [
       "<div>\n",
       "<style scoped>\n",
       "    .dataframe tbody tr th:only-of-type {\n",
       "        vertical-align: middle;\n",
       "    }\n",
       "\n",
       "    .dataframe tbody tr th {\n",
       "        vertical-align: top;\n",
       "    }\n",
       "\n",
       "    .dataframe thead th {\n",
       "        text-align: right;\n",
       "    }\n",
       "</style>\n",
       "<table border=\"1\" class=\"dataframe\">\n",
       "  <thead>\n",
       "    <tr style=\"text-align: right;\">\n",
       "      <th></th>\n",
       "      <th>NO2_mean</th>\n",
       "      <th>NO2_max</th>\n",
       "      <th>NO2_95</th>\n",
       "      <th>key</th>\n",
       "    </tr>\n",
       "  </thead>\n",
       "  <tbody>\n",
       "    <tr>\n",
       "      <th>0</th>\n",
       "      <td>26.498876</td>\n",
       "      <td>49.8</td>\n",
       "      <td>40.3</td>\n",
       "      <td>160012012</td>\n",
       "    </tr>\n",
       "    <tr>\n",
       "      <th>1</th>\n",
       "      <td>10.436822</td>\n",
       "      <td>49.8</td>\n",
       "      <td>26.3</td>\n",
       "      <td>160012012</td>\n",
       "    </tr>\n",
       "    <tr>\n",
       "      <th>2</th>\n",
       "      <td>26.156838</td>\n",
       "      <td>48.4</td>\n",
       "      <td>40.5</td>\n",
       "      <td>160012014</td>\n",
       "    </tr>\n",
       "    <tr>\n",
       "      <th>3</th>\n",
       "      <td>10.589742</td>\n",
       "      <td>48.4</td>\n",
       "      <td>27.4</td>\n",
       "      <td>160012014</td>\n",
       "    </tr>\n",
       "    <tr>\n",
       "      <th>4</th>\n",
       "      <td>25.812360</td>\n",
       "      <td>56.8</td>\n",
       "      <td>42.5</td>\n",
       "      <td>160012015</td>\n",
       "    </tr>\n",
       "  </tbody>\n",
       "</table>\n",
       "</div>"
      ],
      "text/plain": [
       "    NO2_mean  NO2_max  NO2_95        key\n",
       "0  26.498876     49.8    40.3  160012012\n",
       "1  10.436822     49.8    26.3  160012012\n",
       "2  26.156838     48.4    40.5  160012014\n",
       "3  10.589742     48.4    27.4  160012014\n",
       "4  25.812360     56.8    42.5  160012015"
      ]
     },
     "execution_count": 13,
     "metadata": {},
     "output_type": "execute_result"
    }
   ],
   "source": [
    "file = \"dfNO2.csv\"\n",
    "\n",
    "# Read\n",
    "dfNO2 = pd.read_csv(file)\n",
    "dfNO2.head()"
   ]
  },
  {
   "cell_type": "code",
   "execution_count": 12,
   "metadata": {},
   "outputs": [
    {
     "data": {
      "text/plain": [
       "(18, 4)"
      ]
     },
     "execution_count": 12,
     "metadata": {},
     "output_type": "execute_result"
    }
   ],
   "source": [
    "# too little data\n",
    "\n",
    "# dfNO = env_data.loc[env_data['parameter_name'] == \"NITROUS OXIDE\"]\n",
    "# dfNO = dfNO.rename(columns={'parameter_name': 'NO'})\n",
    "# dfNO = dfNO.rename(columns={'arithmetic_mean': 'NO_mean', 'arithmetic_standard_dev': 'NO_std_dev',\\\n",
    "#                        'fifty_percentile': 'NO_50', 'first_max_value': 'NO_first_max',\\\n",
    "#                        'fourth_max_value': 'NO_fourth_max', 'ninety_eight_percentile': 'NO_98',\\\n",
    "#                        'second_max_value': 'NO_second_max', 'seventy_five_percentile': 'NO_75',\\\n",
    "#                         'ninety_five_percentile': 'NO_95', 'ninety_nine_percentile': 'NO_99',\\\n",
    "#                         'ninety_percentile': 'NO_90', 'ten_percentile': 'NO_10', 'third_max_value': 'NO_third_max'})\n",
    "# dfNO = dfNO.rename(columns={'arithmetic_mean': 'NO_mean', 'first_max_value': 'NO_max',\\\n",
    "#                                 'ninety_five_percentile': 'NO_95'})\n",
    "# dfNO = dfNO.drop(columns=['parameter_name', 'arithmetic_standard_dev', 'fifty_percentile', 'fourth_max_value',\\\n",
    "#                                 'county_code', 'ninety_eight_percentile', 'second_max_value', 'seventy_five_percentile',\\\n",
    "#                                 'ninety_nine_percentile', 'ninety_percentile', 'ten_percentile', 'county_name',\\\n",
    "#                                 'third_max_value', 'latitude','longitude', 'site_num', 'state_code', 'state_name', 'year', 'fips'])\n",
    "# dfNO.head()\n",
    "# dfNO.shape"
   ]
  },
  {
   "cell_type": "code",
   "execution_count": 13,
   "metadata": {},
   "outputs": [
    {
     "data": {
      "text/plain": [
       "(676, 4)"
      ]
     },
     "execution_count": 13,
     "metadata": {},
     "output_type": "execute_result"
    }
   ],
   "source": [
    "# too little data\n",
    "\n",
    "# dfMethane = env_data.loc[env_data['parameter_name'] == \"Methane\"]\n",
    "# dfMethane = dfMethane.rename(columns={'parameter_name': 'Methane'})\n",
    "# dfMethane = dfMethane.rename(columns={'arithmetic_mean': 'Methane_mean', 'arithmetic_standard_dev': 'Methane_std_dev',\\\n",
    "#                        'fifty_percentile': 'Methane_50', 'first_max_value': 'Methane_first_max',\\\n",
    "#                        'fourth_max_value': 'Methane_fourth_max', 'ninety_eight_percentile': 'Methane_98',\\\n",
    "#                        'second_max_value': 'Methane_second_max', 'seventy_five_percentile': 'Methane_75',\\\n",
    "#                         'ninety_five_percentile': 'Methane_95', 'ninety_nine_percentile': 'Methane_99',\\\n",
    "#                         'ninety_percentile': 'Methane_90', 'ten_percentile': 'Methane_10', 'third_max_value': 'Methane_third_max'})\n",
    "# dfMethane = dfMethane.rename(columns={'arithmetic_mean': 'Methane_mean', 'first_max_value': 'Methane_max',\\\n",
    "#                                 'ninety_five_percentile': 'Methane_95'})\n",
    "# dfMethane = dfMethane.drop(columns=['parameter_name', 'arithmetic_standard_dev', 'fifty_percentile', 'fourth_max_value',\\\n",
    "#                                 'county_code', 'ninety_eight_percentile', 'second_max_value', 'seventy_five_percentile',\\\n",
    "#                                 'ninety_nine_percentile', 'ninety_percentile', 'ten_percentile', 'county_name',\\\n",
    "#                                 'third_max_value', 'latitude','longitude', 'site_num', 'state_code', 'state_name', 'year', 'fips'])\n",
    "# dfMethane.head()\n",
    "# dfMethane.shape"
   ]
  },
  {
   "cell_type": "code",
   "execution_count": 11,
   "metadata": {},
   "outputs": [],
   "source": [
    "# dfCO2 = env_data.loc[env_data['parameter_name'] == \"Carbon dioxide\"]\n",
    "# dfCO2 = dfCO2.rename(columns={'parameter_name': 'CO2'})\n",
    "# dfCO2 = dfCO2.rename(columns={'arithmetic_mean': 'CO2_mean', 'arithmetic_standard_dev': 'CO2_std_dev',\\\n",
    "#                        'fifty_percentile': 'CO2_50', 'first_max_value': 'CO2_first_max',\\\n",
    "#                        'fourth_max_value': 'CO2_fourth_max', 'ninety_eight_percentile': 'CO2_98',\\\n",
    "#                        'second_max_value': 'CO2_second_max', 'seventy_five_percentile': 'CO2_75',\\\n",
    "#                         'ninety_five_percentile': 'CO2_95', 'ninety_nine_percentile': 'CO2_99',\\\n",
    "#                         'ninety_percentile': 'CO2_90', 'ten_percentile': 'CO2_10', 'third_max_value': 'CO2_third_max'})\n",
    "# dfCO2 = dfCO2.rename(columns={'arithmetic_mean': 'CO2_mean', 'first_max_value': 'CO2_max',\\\n",
    "#                                 'ninety_five_percentile': 'CO2_95'})\n",
    "# dfCO2 = dfCO2.drop(columns=['parameter_name', 'arithmetic_standard_dev', 'fifty_percentile', 'fourth_max_value',\\\n",
    "#                                 'county_code', 'ninety_eight_percentile', 'second_max_value', 'seventy_five_percentile',\\\n",
    "#                                 'ninety_nine_percentile', 'ninety_percentile', 'ten_percentile', 'county_name',\\\n",
    "#                                 'third_max_value', 'latitude','longitude', 'site_num', 'state_code', 'state_name', 'year', 'fips'])\n",
    "# dfCO2.head()\n"
   ]
  },
  {
   "cell_type": "code",
   "execution_count": 9,
   "metadata": {},
   "outputs": [
    {
     "data": {
      "text/plain": [
       "(35714, 4)"
      ]
     },
     "execution_count": 9,
     "metadata": {},
     "output_type": "execute_result"
    }
   ],
   "source": [
    "dfCO.shape\n",
    "\n",
    "# this is the largest data set with an inner join andafocus on Ozone and particulate matter could be focused and meaningful\n"
   ]
  },
  {
   "cell_type": "code",
   "execution_count": null,
   "metadata": {},
   "outputs": [],
   "source": []
  },
  {
   "cell_type": "markdown",
   "metadata": {},
   "source": []
  },
  {
   "cell_type": "markdown",
   "metadata": {},
   "source": [
    "\n"
   ]
  },
  {
   "cell_type": "code",
   "execution_count": 37,
   "metadata": {},
   "outputs": [],
   "source": [
    "# dfCO2.to_csv(index=False)\n",
    "\n",
    "# export_csv = dfCO2.to_csv (r'export_dataframe.csv', index = None, header=True) "
   ]
  },
  {
   "cell_type": "code",
   "execution_count": 37,
   "metadata": {},
   "outputs": [],
   "source": [
    "# from functools import reduce\n",
    "# reduce(lambda x,y: pd.merge(x,y, on='key', how='outer'), [dfPM10, dfPM25, dfOzone, dfNOX, dfCO, dfNO2,\\\n",
    "#                                                           dfNO, dfMethane, dfCO2])"
   ]
  },
  {
   "cell_type": "code",
   "execution_count": 14,
   "metadata": {},
   "outputs": [
    {
     "data": {
      "text/html": [
       "<div>\n",
       "<style scoped>\n",
       "    .dataframe tbody tr th:only-of-type {\n",
       "        vertical-align: middle;\n",
       "    }\n",
       "\n",
       "    .dataframe tbody tr th {\n",
       "        vertical-align: top;\n",
       "    }\n",
       "\n",
       "    .dataframe thead th {\n",
       "        text-align: right;\n",
       "    }\n",
       "</style>\n",
       "<table border=\"1\" class=\"dataframe\">\n",
       "  <thead>\n",
       "    <tr style=\"text-align: right;\">\n",
       "      <th></th>\n",
       "      <th>Ozone_mean</th>\n",
       "      <th>Ozone_max</th>\n",
       "      <th>Ozone_95</th>\n",
       "      <th>key</th>\n",
       "      <th>PM25_mean</th>\n",
       "      <th>PM25_first_max</th>\n",
       "      <th>PM25_95</th>\n",
       "    </tr>\n",
       "  </thead>\n",
       "  <tbody>\n",
       "    <tr>\n",
       "      <th>0</th>\n",
       "      <td>0.058185</td>\n",
       "      <td>0.09</td>\n",
       "      <td>0.078</td>\n",
       "      <td>160012006</td>\n",
       "      <td>9.620000</td>\n",
       "      <td>34.5</td>\n",
       "      <td>34.5</td>\n",
       "    </tr>\n",
       "    <tr>\n",
       "      <th>1</th>\n",
       "      <td>0.058185</td>\n",
       "      <td>0.09</td>\n",
       "      <td>0.078</td>\n",
       "      <td>160012006</td>\n",
       "      <td>7.565306</td>\n",
       "      <td>28.5</td>\n",
       "      <td>21.7</td>\n",
       "    </tr>\n",
       "    <tr>\n",
       "      <th>2</th>\n",
       "      <td>0.058185</td>\n",
       "      <td>0.09</td>\n",
       "      <td>0.078</td>\n",
       "      <td>160012006</td>\n",
       "      <td>7.565306</td>\n",
       "      <td>28.5</td>\n",
       "      <td>21.7</td>\n",
       "    </tr>\n",
       "    <tr>\n",
       "      <th>3</th>\n",
       "      <td>0.058185</td>\n",
       "      <td>0.09</td>\n",
       "      <td>0.078</td>\n",
       "      <td>160012006</td>\n",
       "      <td>7.565306</td>\n",
       "      <td>28.5</td>\n",
       "      <td>21.7</td>\n",
       "    </tr>\n",
       "    <tr>\n",
       "      <th>4</th>\n",
       "      <td>0.058185</td>\n",
       "      <td>0.09</td>\n",
       "      <td>0.078</td>\n",
       "      <td>160012006</td>\n",
       "      <td>9.620000</td>\n",
       "      <td>34.5</td>\n",
       "      <td>34.5</td>\n",
       "    </tr>\n",
       "  </tbody>\n",
       "</table>\n",
       "</div>"
      ],
      "text/plain": [
       "   Ozone_mean  Ozone_max  Ozone_95        key  PM25_mean  PM25_first_max  \\\n",
       "0    0.058185       0.09     0.078  160012006   9.620000            34.5   \n",
       "1    0.058185       0.09     0.078  160012006   7.565306            28.5   \n",
       "2    0.058185       0.09     0.078  160012006   7.565306            28.5   \n",
       "3    0.058185       0.09     0.078  160012006   7.565306            28.5   \n",
       "4    0.058185       0.09     0.078  160012006   9.620000            34.5   \n",
       "\n",
       "   PM25_95  \n",
       "0     34.5  \n",
       "1     21.7  \n",
       "2     21.7  \n",
       "3     21.7  \n",
       "4     34.5  "
      ]
     },
     "execution_count": 14,
     "metadata": {},
     "output_type": "execute_result"
    }
   ],
   "source": [
    "dfmerge1 = dfOzone.merge(dfPM25, on='key', how='inner')\n",
    "dfmerge1.head()"
   ]
  },
  {
   "cell_type": "code",
   "execution_count": 13,
   "metadata": {},
   "outputs": [
    {
     "data": {
      "text/plain": [
       "(1297819, 7)"
      ]
     },
     "execution_count": 13,
     "metadata": {},
     "output_type": "execute_result"
    }
   ],
   "source": [
    "# this is the largest data set with an inner join andafocus on Ozone and particulate matter could be focused and meaningful\n",
    "dfmerge1.shape"
   ]
  },
  {
   "cell_type": "code",
   "execution_count": 14,
   "metadata": {},
   "outputs": [],
   "source": [
    "dfmerge1.to_csv (r'dfmerge1.csv', index = None, header=True) "
   ]
  },
  {
   "cell_type": "code",
   "execution_count": 15,
   "metadata": {},
   "outputs": [
    {
     "data": {
      "text/html": [
       "<div>\n",
       "<style scoped>\n",
       "    .dataframe tbody tr th:only-of-type {\n",
       "        vertical-align: middle;\n",
       "    }\n",
       "\n",
       "    .dataframe tbody tr th {\n",
       "        vertical-align: top;\n",
       "    }\n",
       "\n",
       "    .dataframe thead th {\n",
       "        text-align: right;\n",
       "    }\n",
       "</style>\n",
       "<table border=\"1\" class=\"dataframe\">\n",
       "  <thead>\n",
       "    <tr style=\"text-align: right;\">\n",
       "      <th></th>\n",
       "      <th>Ozone_mean</th>\n",
       "      <th>Ozone_max</th>\n",
       "      <th>Ozone_95</th>\n",
       "      <th>key</th>\n",
       "      <th>PM25_mean</th>\n",
       "      <th>PM25_first_max</th>\n",
       "      <th>PM25_95</th>\n",
       "    </tr>\n",
       "  </thead>\n",
       "  <tbody>\n",
       "    <tr>\n",
       "      <th>0</th>\n",
       "      <td>0.058185</td>\n",
       "      <td>0.09</td>\n",
       "      <td>0.078</td>\n",
       "      <td>160012006</td>\n",
       "      <td>9.620000</td>\n",
       "      <td>34.5</td>\n",
       "      <td>34.5</td>\n",
       "    </tr>\n",
       "    <tr>\n",
       "      <th>1</th>\n",
       "      <td>0.058185</td>\n",
       "      <td>0.09</td>\n",
       "      <td>0.078</td>\n",
       "      <td>160012006</td>\n",
       "      <td>7.565306</td>\n",
       "      <td>28.5</td>\n",
       "      <td>21.7</td>\n",
       "    </tr>\n",
       "    <tr>\n",
       "      <th>2</th>\n",
       "      <td>0.058185</td>\n",
       "      <td>0.09</td>\n",
       "      <td>0.078</td>\n",
       "      <td>160012006</td>\n",
       "      <td>7.565306</td>\n",
       "      <td>28.5</td>\n",
       "      <td>21.7</td>\n",
       "    </tr>\n",
       "    <tr>\n",
       "      <th>3</th>\n",
       "      <td>0.058185</td>\n",
       "      <td>0.09</td>\n",
       "      <td>0.078</td>\n",
       "      <td>160012006</td>\n",
       "      <td>7.565306</td>\n",
       "      <td>28.5</td>\n",
       "      <td>21.7</td>\n",
       "    </tr>\n",
       "    <tr>\n",
       "      <th>4</th>\n",
       "      <td>0.058185</td>\n",
       "      <td>0.09</td>\n",
       "      <td>0.078</td>\n",
       "      <td>160012006</td>\n",
       "      <td>9.620000</td>\n",
       "      <td>34.5</td>\n",
       "      <td>34.5</td>\n",
       "    </tr>\n",
       "  </tbody>\n",
       "</table>\n",
       "</div>"
      ],
      "text/plain": [
       "   Ozone_mean  Ozone_max  Ozone_95        key  PM25_mean  PM25_first_max  \\\n",
       "0    0.058185       0.09     0.078  160012006   9.620000            34.5   \n",
       "1    0.058185       0.09     0.078  160012006   7.565306            28.5   \n",
       "2    0.058185       0.09     0.078  160012006   7.565306            28.5   \n",
       "3    0.058185       0.09     0.078  160012006   7.565306            28.5   \n",
       "4    0.058185       0.09     0.078  160012006   9.620000            34.5   \n",
       "\n",
       "   PM25_95  \n",
       "0     34.5  \n",
       "1     21.7  \n",
       "2     21.7  \n",
       "3     21.7  \n",
       "4     34.5  "
      ]
     },
     "execution_count": 15,
     "metadata": {},
     "output_type": "execute_result"
    }
   ],
   "source": [
    "file = \"dfmerge1.csv\"\n",
    "\n",
    "# Read\n",
    "dfmerge1 = pd.read_csv(file)\n",
    "dfmerge1.head()\n"
   ]
  },
  {
   "cell_type": "code",
   "execution_count": 16,
   "metadata": {},
   "outputs": [
    {
     "data": {
      "text/plain": [
       "Ozone_mean        float64\n",
       "Ozone_max         float64\n",
       "Ozone_95          float64\n",
       "key                 int64\n",
       "PM25_mean         float64\n",
       "PM25_first_max    float64\n",
       "PM25_95           float64\n",
       "dtype: object"
      ]
     },
     "execution_count": 16,
     "metadata": {},
     "output_type": "execute_result"
    }
   ],
   "source": [
    "dfmerge1.dtypes"
   ]
  },
  {
   "cell_type": "code",
   "execution_count": 17,
   "metadata": {},
   "outputs": [
    {
     "data": {
      "text/plain": [
       "(8501, 6)"
      ]
     },
     "execution_count": 17,
     "metadata": {},
     "output_type": "execute_result"
    }
   ],
   "source": [
    "dfmerge11 = dfmerge1.groupby(['key'], sort=True).max()\n",
    "dfmerge11.shape"
   ]
  },
  {
   "cell_type": "code",
   "execution_count": 18,
   "metadata": {},
   "outputs": [],
   "source": [
    "dfmerge11.to_csv (r'dfmerge11.csv', index = None, header=True) "
   ]
  },
  {
   "cell_type": "code",
   "execution_count": 19,
   "metadata": {},
   "outputs": [
    {
     "data": {
      "text/html": [
       "<div>\n",
       "<style scoped>\n",
       "    .dataframe tbody tr th:only-of-type {\n",
       "        vertical-align: middle;\n",
       "    }\n",
       "\n",
       "    .dataframe tbody tr th {\n",
       "        vertical-align: top;\n",
       "    }\n",
       "\n",
       "    .dataframe thead th {\n",
       "        text-align: right;\n",
       "    }\n",
       "</style>\n",
       "<table border=\"1\" class=\"dataframe\">\n",
       "  <thead>\n",
       "    <tr style=\"text-align: right;\">\n",
       "      <th></th>\n",
       "      <th>Ozone_mean</th>\n",
       "      <th>Ozone_max</th>\n",
       "      <th>Ozone_95</th>\n",
       "      <th>key</th>\n",
       "      <th>PM25_mean</th>\n",
       "      <th>PM25_first_max</th>\n",
       "      <th>PM25_95</th>\n",
       "    </tr>\n",
       "  </thead>\n",
       "  <tbody>\n",
       "    <tr>\n",
       "      <th>0</th>\n",
       "      <td>0.058185</td>\n",
       "      <td>0.09</td>\n",
       "      <td>0.078</td>\n",
       "      <td>160012006</td>\n",
       "      <td>9.620000</td>\n",
       "      <td>34.5</td>\n",
       "      <td>34.5</td>\n",
       "    </tr>\n",
       "    <tr>\n",
       "      <th>1</th>\n",
       "      <td>0.058185</td>\n",
       "      <td>0.09</td>\n",
       "      <td>0.078</td>\n",
       "      <td>160012006</td>\n",
       "      <td>7.565306</td>\n",
       "      <td>28.5</td>\n",
       "      <td>21.7</td>\n",
       "    </tr>\n",
       "    <tr>\n",
       "      <th>2</th>\n",
       "      <td>0.058185</td>\n",
       "      <td>0.09</td>\n",
       "      <td>0.078</td>\n",
       "      <td>160012006</td>\n",
       "      <td>7.565306</td>\n",
       "      <td>28.5</td>\n",
       "      <td>21.7</td>\n",
       "    </tr>\n",
       "    <tr>\n",
       "      <th>3</th>\n",
       "      <td>0.058185</td>\n",
       "      <td>0.09</td>\n",
       "      <td>0.078</td>\n",
       "      <td>160012006</td>\n",
       "      <td>7.565306</td>\n",
       "      <td>28.5</td>\n",
       "      <td>21.7</td>\n",
       "    </tr>\n",
       "    <tr>\n",
       "      <th>4</th>\n",
       "      <td>0.058185</td>\n",
       "      <td>0.09</td>\n",
       "      <td>0.078</td>\n",
       "      <td>160012006</td>\n",
       "      <td>9.620000</td>\n",
       "      <td>34.5</td>\n",
       "      <td>34.5</td>\n",
       "    </tr>\n",
       "  </tbody>\n",
       "</table>\n",
       "</div>"
      ],
      "text/plain": [
       "   Ozone_mean  Ozone_max  Ozone_95        key  PM25_mean  PM25_first_max  \\\n",
       "0    0.058185       0.09     0.078  160012006   9.620000            34.5   \n",
       "1    0.058185       0.09     0.078  160012006   7.565306            28.5   \n",
       "2    0.058185       0.09     0.078  160012006   7.565306            28.5   \n",
       "3    0.058185       0.09     0.078  160012006   7.565306            28.5   \n",
       "4    0.058185       0.09     0.078  160012006   9.620000            34.5   \n",
       "\n",
       "   PM25_95  \n",
       "0     34.5  \n",
       "1     21.7  \n",
       "2     21.7  \n",
       "3     21.7  \n",
       "4     34.5  "
      ]
     },
     "execution_count": 19,
     "metadata": {},
     "output_type": "execute_result"
    }
   ],
   "source": [
    "file = \"dfmerge1.csv\"\n",
    "\n",
    "# Read\n",
    "dfmerge11 = pd.read_csv(file)\n",
    "dfmerge11.head()"
   ]
  },
  {
   "cell_type": "code",
   "execution_count": 15,
   "metadata": {},
   "outputs": [],
   "source": [
    "# CO andNO2 have smaller but acceptable datasets worth considering\n",
    "dfmerge2 = dfmerge1.merge(dfCO, on='key', how='inner')"
   ]
  },
  {
   "cell_type": "code",
   "execution_count": null,
   "metadata": {},
   "outputs": [],
   "source": [
    "dfmerge2.shape"
   ]
  },
  {
   "cell_type": "code",
   "execution_count": 21,
   "metadata": {},
   "outputs": [],
   "source": [
    "dfmerge2.to_csv(r'dfmerge2.csv', index = None, header=True)"
   ]
  },
  {
   "cell_type": "code",
   "execution_count": 7,
   "metadata": {},
   "outputs": [
    {
     "data": {
      "text/html": [
       "<div>\n",
       "<style scoped>\n",
       "    .dataframe tbody tr th:only-of-type {\n",
       "        vertical-align: middle;\n",
       "    }\n",
       "\n",
       "    .dataframe tbody tr th {\n",
       "        vertical-align: top;\n",
       "    }\n",
       "\n",
       "    .dataframe thead th {\n",
       "        text-align: right;\n",
       "    }\n",
       "</style>\n",
       "<table border=\"1\" class=\"dataframe\">\n",
       "  <thead>\n",
       "    <tr style=\"text-align: right;\">\n",
       "      <th></th>\n",
       "      <th>Ozone_mean</th>\n",
       "      <th>Ozone_max</th>\n",
       "      <th>Ozone_95</th>\n",
       "      <th>key</th>\n",
       "      <th>PM25_mean</th>\n",
       "      <th>PM25_first_max</th>\n",
       "      <th>PM25_95</th>\n",
       "      <th>CO_mean</th>\n",
       "      <th>CO_max</th>\n",
       "      <th>CO_95</th>\n",
       "    </tr>\n",
       "  </thead>\n",
       "  <tbody>\n",
       "    <tr>\n",
       "      <th>0</th>\n",
       "      <td>0.058185</td>\n",
       "      <td>0.09</td>\n",
       "      <td>0.078</td>\n",
       "      <td>160012006</td>\n",
       "      <td>9.620000</td>\n",
       "      <td>34.5</td>\n",
       "      <td>34.5</td>\n",
       "      <td>0.637531</td>\n",
       "      <td>4.8</td>\n",
       "      <td>1.3</td>\n",
       "    </tr>\n",
       "    <tr>\n",
       "      <th>1</th>\n",
       "      <td>0.058185</td>\n",
       "      <td>0.09</td>\n",
       "      <td>0.078</td>\n",
       "      <td>160012006</td>\n",
       "      <td>9.620000</td>\n",
       "      <td>34.5</td>\n",
       "      <td>34.5</td>\n",
       "      <td>0.643923</td>\n",
       "      <td>2.1</td>\n",
       "      <td>1.2</td>\n",
       "    </tr>\n",
       "    <tr>\n",
       "      <th>2</th>\n",
       "      <td>0.058185</td>\n",
       "      <td>0.09</td>\n",
       "      <td>0.078</td>\n",
       "      <td>160012006</td>\n",
       "      <td>7.565306</td>\n",
       "      <td>28.5</td>\n",
       "      <td>21.7</td>\n",
       "      <td>0.637531</td>\n",
       "      <td>4.8</td>\n",
       "      <td>1.3</td>\n",
       "    </tr>\n",
       "    <tr>\n",
       "      <th>3</th>\n",
       "      <td>0.058185</td>\n",
       "      <td>0.09</td>\n",
       "      <td>0.078</td>\n",
       "      <td>160012006</td>\n",
       "      <td>7.565306</td>\n",
       "      <td>28.5</td>\n",
       "      <td>21.7</td>\n",
       "      <td>0.643923</td>\n",
       "      <td>2.1</td>\n",
       "      <td>1.2</td>\n",
       "    </tr>\n",
       "    <tr>\n",
       "      <th>4</th>\n",
       "      <td>0.058185</td>\n",
       "      <td>0.09</td>\n",
       "      <td>0.078</td>\n",
       "      <td>160012006</td>\n",
       "      <td>7.565306</td>\n",
       "      <td>28.5</td>\n",
       "      <td>21.7</td>\n",
       "      <td>0.637531</td>\n",
       "      <td>4.8</td>\n",
       "      <td>1.3</td>\n",
       "    </tr>\n",
       "  </tbody>\n",
       "</table>\n",
       "</div>"
      ],
      "text/plain": [
       "   Ozone_mean  Ozone_max  Ozone_95        key  PM25_mean  PM25_first_max  \\\n",
       "0    0.058185       0.09     0.078  160012006   9.620000            34.5   \n",
       "1    0.058185       0.09     0.078  160012006   9.620000            34.5   \n",
       "2    0.058185       0.09     0.078  160012006   7.565306            28.5   \n",
       "3    0.058185       0.09     0.078  160012006   7.565306            28.5   \n",
       "4    0.058185       0.09     0.078  160012006   7.565306            28.5   \n",
       "\n",
       "   PM25_95   CO_mean  CO_max  CO_95  \n",
       "0     34.5  0.637531     4.8    1.3  \n",
       "1     34.5  0.643923     2.1    1.2  \n",
       "2     21.7  0.637531     4.8    1.3  \n",
       "3     21.7  0.643923     2.1    1.2  \n",
       "4     21.7  0.637531     4.8    1.3  "
      ]
     },
     "execution_count": 7,
     "metadata": {},
     "output_type": "execute_result"
    }
   ],
   "source": [
    "file = \"dfmerge2.csv\"\n",
    "\n",
    "# Read\n",
    "dfmerge2 = pd.read_csv(file)\n",
    "dfmerge2.head()"
   ]
  },
  {
   "cell_type": "code",
   "execution_count": 23,
   "metadata": {},
   "outputs": [
    {
     "data": {
      "text/plain": [
       "(9696563, 10)"
      ]
     },
     "execution_count": 23,
     "metadata": {},
     "output_type": "execute_result"
    }
   ],
   "source": [
    "dfmerge2.shape"
   ]
  },
  {
   "cell_type": "code",
   "execution_count": 21,
   "metadata": {},
   "outputs": [],
   "source": [
    "# final merge recomendation based on data (see data shape above)\n",
    "dfmerge3 = dfmerge2.merge(dfNO2, on='key', how='inner')"
   ]
  },
  {
   "cell_type": "code",
   "execution_count": 22,
   "metadata": {},
   "outputs": [
    {
     "data": {
      "text/plain": [
       "(3997085, 13)"
      ]
     },
     "execution_count": 22,
     "metadata": {},
     "output_type": "execute_result"
    }
   ],
   "source": [
    "dfmerge3.shape"
   ]
  },
  {
   "cell_type": "code",
   "execution_count": 23,
   "metadata": {},
   "outputs": [],
   "source": [
    "dfmerge3.to_csv(r'dfmerge3.csv', index = None, header=True)"
   ]
  },
  {
   "cell_type": "code",
   "execution_count": 24,
   "metadata": {},
   "outputs": [
    {
     "data": {
      "text/plain": [
       "(294, 12)"
      ]
     },
     "execution_count": 24,
     "metadata": {},
     "output_type": "execute_result"
    }
   ],
   "source": [
    "dfmerge31 = dfmerge3.groupby(['key'], sort=True).max()\n",
    "dfmerge31.shape"
   ]
  },
  {
   "cell_type": "code",
   "execution_count": 25,
   "metadata": {},
   "outputs": [],
   "source": [
    "dfmerge31.to_csv(r'dfmerge31.csv', index = None, header=True)"
   ]
  },
  {
   "cell_type": "code",
   "execution_count": null,
   "metadata": {},
   "outputs": [],
   "source": []
  },
  {
   "cell_type": "code",
   "execution_count": 15,
   "metadata": {},
   "outputs": [],
   "source": [
    "# file = \"dfmerge3.csv\"\n",
    "\n",
    "# # Read\n",
    "# dfmerge3 = pd.read_csv(file)\n",
    "# dfmerge3.head()"
   ]
  },
  {
   "cell_type": "code",
   "execution_count": 16,
   "metadata": {},
   "outputs": [],
   "source": [
    "# dfmerge4 = dfmerge3.merge(dfCO, on='key', how='outer')"
   ]
  },
  {
   "cell_type": "code",
   "execution_count": 17,
   "metadata": {},
   "outputs": [],
   "source": [
    "# dfmerge4.to_csv(r'dfmerge4.csv', index = None, header=True)"
   ]
  },
  {
   "cell_type": "code",
   "execution_count": 18,
   "metadata": {},
   "outputs": [],
   "source": [
    "# file = \"dfmerge4.csv\"\n",
    "\n",
    "# # Read\n",
    "# dfmerge4 = pd.read_csv(file)\n",
    "# dfmerge4.head()"
   ]
  },
  {
   "cell_type": "code",
   "execution_count": 19,
   "metadata": {},
   "outputs": [],
   "source": [
    "# dfmerge4.shape"
   ]
  },
  {
   "cell_type": "code",
   "execution_count": 20,
   "metadata": {},
   "outputs": [],
   "source": [
    "# dfmerge5 = dfmerge4.merge(dfNO2, on='key', how='outer')"
   ]
  },
  {
   "cell_type": "code",
   "execution_count": 21,
   "metadata": {},
   "outputs": [],
   "source": [
    "# dfmerge5.to_csv(r'dfmerge5.csv', index = None, header=True)"
   ]
  },
  {
   "cell_type": "code",
   "execution_count": 22,
   "metadata": {},
   "outputs": [],
   "source": [
    "# file = \"dfmerge5.csv\"\n",
    "\n",
    "# # Read\n",
    "# dfmerge5 = pd.read_csv(file)\n",
    "# dfmerge5.head()"
   ]
  },
  {
   "cell_type": "code",
   "execution_count": 23,
   "metadata": {},
   "outputs": [],
   "source": [
    "# dfmerge5.shape"
   ]
  },
  {
   "cell_type": "code",
   "execution_count": null,
   "metadata": {},
   "outputs": [],
   "source": []
  },
  {
   "cell_type": "code",
   "execution_count": 24,
   "metadata": {},
   "outputs": [],
   "source": [
    "# dfmerge6 = dfmerge5.merge(dfNO, on='key', how='outer')"
   ]
  },
  {
   "cell_type": "code",
   "execution_count": 25,
   "metadata": {},
   "outputs": [],
   "source": [
    "# dfmerge2.to_csv(r'dfmerge2.csv', index = None, header=True)"
   ]
  },
  {
   "cell_type": "code",
   "execution_count": 26,
   "metadata": {},
   "outputs": [],
   "source": [
    "# file = \"dfmerge2.csv\"\n",
    "\n",
    "# # Read\n",
    "# dfmerge2 = pd.read_csv(file)\n",
    "# dfmerge2.head()"
   ]
  },
  {
   "cell_type": "code",
   "execution_count": 27,
   "metadata": {},
   "outputs": [],
   "source": [
    "# dfmerge7 = dfmerge6.merge(dfMethane, on='key', how='outer')"
   ]
  },
  {
   "cell_type": "code",
   "execution_count": 28,
   "metadata": {},
   "outputs": [],
   "source": [
    "# dfmerge2.to_csv(r'dfmerge2.csv', index = None, header=True)"
   ]
  },
  {
   "cell_type": "code",
   "execution_count": 29,
   "metadata": {},
   "outputs": [],
   "source": [
    "# file = \"dfmerge2.csv\"\n",
    "\n",
    "# # Read\n",
    "# dfmerge2 = pd.read_csv(file)\n",
    "# dfmerge2.head()"
   ]
  },
  {
   "cell_type": "code",
   "execution_count": 30,
   "metadata": {},
   "outputs": [],
   "source": [
    "# dfmergeF = dfmerge7.merge(dfCO2, on='key', how='outer')"
   ]
  },
  {
   "cell_type": "code",
   "execution_count": 31,
   "metadata": {},
   "outputs": [],
   "source": [
    "# dfmerge2.to_csv(r'dfmerge2.csv', index = None, header=True)"
   ]
  },
  {
   "cell_type": "code",
   "execution_count": 32,
   "metadata": {},
   "outputs": [],
   "source": [
    "# file = \"dfmerge2.csv\"\n",
    "\n",
    "# # Read\n",
    "# dfmerge2 = pd.read_csv(file)\n",
    "# dfmerge2.head()"
   ]
  },
  {
   "cell_type": "code",
   "execution_count": 33,
   "metadata": {},
   "outputs": [],
   "source": [
    "# env_data = env_data.groupby(['key'], sort=True).max()\n",
    "# env_data.shape"
   ]
  },
  {
   "cell_type": "code",
   "execution_count": null,
   "metadata": {},
   "outputs": [],
   "source": []
  }
 ],
 "metadata": {
  "anaconda-cloud": {},
  "kernel_info": {
   "name": "python3"
  },
  "kernelspec": {
   "display_name": "Python 3",
   "language": "python",
   "name": "python3"
  },
  "language_info": {
   "codemirror_mode": {
    "name": "ipython",
    "version": 3
   },
   "file_extension": ".py",
   "mimetype": "text/x-python",
   "name": "python",
   "nbconvert_exporter": "python",
   "pygments_lexer": "ipython3",
   "version": "3.7.3"
  },
  "nteract": {
   "version": "0.2.0"
  }
 },
 "nbformat": 4,
 "nbformat_minor": 2
}
